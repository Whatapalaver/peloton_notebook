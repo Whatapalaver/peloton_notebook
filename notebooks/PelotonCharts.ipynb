{
 "cells": [
  {
   "cell_type": "markdown",
   "metadata": {},
   "source": [
    "Allows the notebook to load your username and password from the .env file."
   ]
  },
  {
   "cell_type": "code",
   "execution_count": null,
   "metadata": {},
   "outputs": [],
   "source": [
    "%load_ext dotenv\n",
    "%dotenv"
   ]
  },
  {
   "cell_type": "markdown",
   "metadata": {},
   "source": [
    "### Import dependancies and connect to peloton.\n",
    "\n",
    "You should see a 200 status if it's connected successfully."
   ]
  },
  {
   "cell_type": "code",
   "execution_count": null,
   "metadata": {},
   "outputs": [],
   "source": [
    "import requests\n",
    "import pandas as pd\n",
    "import json\n",
    "import os\n",
    "import plotly.express as px\n",
    "from datetime import datetime\n",
    "\n",
    "s = requests.Session()\n",
    "payload = {'username_or_email': os.getenv(\"peloton-username\"), 'password': os.getenv(\"peloton-password\")}\n",
    "s.post('https://api.onepeloton.com/auth/login', json=payload)"
   ]
  },
  {
   "cell_type": "markdown",
   "metadata": {},
   "source": [
    "## Load user data from api"
   ]
  },
  {
   "cell_type": "code",
   "execution_count": null,
   "metadata": {},
   "outputs": [],
   "source": [
    "url = 'https://api.onepeloton.com/api/me'\n",
    "# getting data from source\n",
    "data = s.get(url).json()\n",
    "\n",
    "pretty_data = json.dumps(data, indent=4)\n",
    "\n",
    "print(pretty_data)"
   ]
  },
  {
   "cell_type": "markdown",
   "metadata": {},
   "source": [
    "Show your peloton_id."
   ]
  },
  {
   "cell_type": "code",
   "execution_count": null,
   "metadata": {},
   "outputs": [],
   "source": [
    "peloton_id = data['id']\n",
    "print(peloton_id)"
   ]
  },
  {
   "cell_type": "markdown",
   "metadata": {},
   "source": [
    "Build the core DataFrame from workoutdata."
   ]
  },
  {
   "cell_type": "code",
   "execution_count": null,
   "metadata": {},
   "outputs": [],
   "source": [
    "df = pd.DataFrame(columns=[\"percentile\", \n",
    "                            \"workout_date\", \n",
    "                            \"difficulty_rating_avg\", \n",
    "                            \"duration_mins\", \n",
    "                            \"class_length\",\n",
    "                            \"total_work\"])\n",
    "\n",
    "races = 50\n",
    "\n",
    "\n",
    "def get_workout(workout_id: str):\n",
    "    url = 'https://api.onepeloton.com/api/workout/' + workout_id\n",
    "    # getting data from source\n",
    "    data = s.get(url).json()\n",
    "    \n",
    "    leaderboard_rank = data['leaderboard_rank']\n",
    "    total_leaderboard_users= data['total_leaderboard_users']\n",
    "    avg_pos = (leaderboard_rank / total_leaderboard_users)\n",
    "    timestamp = datetime.fromtimestamp(data['created_at'])\n",
    "    difficulty_rating_avg = data['ride']['difficulty_rating_avg']\n",
    "    pdd = (data['ride']['pedaling_duration'] / 60)\n",
    "    total_work = data['total_work']/ 1000\n",
    "    new_row = pd.Series({\"percentile\": avg_pos, \n",
    "                         \"workout_date\": timestamp, \n",
    "                         \"difficulty_rating_avg\": difficulty_rating_avg, \n",
    "                         \"duration_mins\": pdd, \n",
    "                         \"class_length\": '{0} mins'.format(int(pdd)),\n",
    "                         \"total_work\": total_work})\n",
    "    global df\n",
    "    df = df.append(new_row, ignore_index=True)\n",
    "\n",
    "\n",
    "def get_session_data(session_type: str):\n",
    "    for w in get_data.json()['data']:\n",
    "        if w['ride']['difficulty_level'] !=  \"beginner\":\n",
    "            if w['fitness_discipline'] == session_type:\n",
    "                get_workout(w['id'])\n",
    " \n",
    "\n",
    "url = 'https://api.onepeloton.com/api/user/{0}/workouts/?joins=ride,ride.instructor&limit={1}&page=0'.format(peloton_id, races)\n",
    "# getting data from source\n",
    "get_data = s.get(url)\n",
    "get_session_data('cycling')\n",
    "\n",
    "\n",
    "df['workout_date'] = pd.to_datetime(df['workout_date'])"
   ]
  },
  {
   "cell_type": "code",
   "execution_count": null,
   "metadata": {},
   "outputs": [],
   "source": [
    "print(df.head())"
   ]
  },
  {
   "cell_type": "markdown",
   "metadata": {},
   "source": [
    "## Build a scatter plot"
   ]
  },
  {
   "cell_type": "code",
   "execution_count": null,
   "metadata": {},
   "outputs": [],
   "source": [
    "def plot_workout_percentile():\n",
    "    fig1 = px.scatter(df, x=\"workout_date\", \n",
    "                         y=\"percentile\", \n",
    "                         title='Workout % position',  \n",
    "                         trendline=\"ols\", \n",
    "                         trendline_color_override=\"red\",\n",
    "                    )\n",
    "    fig1.update_yaxes(range=[0, 1])\n",
    "    fig1.show()\n",
    "\n",
    "plot_workout_percentile()"
   ]
  },
  {
   "cell_type": "code",
   "execution_count": null,
   "metadata": {},
   "outputs": [],
   "source": []
  }
 ],
 "metadata": {
  "kernelspec": {
   "display_name": "Python 3",
   "language": "python",
   "name": "python3"
  },
  "language_info": {
   "codemirror_mode": {
    "name": "ipython",
    "version": 3
   },
   "file_extension": ".py",
   "mimetype": "text/x-python",
   "name": "python",
   "nbconvert_exporter": "python",
   "pygments_lexer": "ipython3",
   "version": "3.7.1"
  }
 },
 "nbformat": 4,
 "nbformat_minor": 4
}
