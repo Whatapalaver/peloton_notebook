{
 "cells": [
  {
   "cell_type": "markdown",
   "metadata": {},
   "source": [
    "Allows the notebook to load your username and password from the .env file."
   ]
  },
  {
   "cell_type": "code",
   "execution_count": 1,
   "metadata": {},
   "outputs": [],
   "source": [
    "%load_ext dotenv\n",
    "%dotenv"
   ]
  },
  {
   "cell_type": "markdown",
   "metadata": {},
   "source": [
    "### Import dependancies and connect to peloton.\n",
    "\n",
    "You should see a 200 status if it's connected successfully."
   ]
  },
  {
   "cell_type": "code",
   "execution_count": 2,
   "metadata": {},
   "outputs": [
    {
     "data": {
      "text/plain": [
       "<Response [200]>"
      ]
     },
     "execution_count": 2,
     "metadata": {},
     "output_type": "execute_result"
    }
   ],
   "source": [
    "import requests\n",
    "import pandas as pd\n",
    "import json\n",
    "import os\n",
    "import plotly.express as px\n",
    "from datetime import datetime\n",
    "\n",
    "s = requests.Session()\n",
    "payload = {'username_or_email': os.getenv(\"peloton-username\"), 'password': os.getenv(\"peloton-password\")}\n",
    "s.post('https://api.onepeloton.com/auth/login', json=payload)"
   ]
  },
  {
   "cell_type": "markdown",
   "metadata": {},
   "source": [
    "## Load user data from api"
   ]
  },
  {
   "cell_type": "code",
   "execution_count": 3,
   "metadata": {},
   "outputs": [
    {
     "name": "stdout",
     "output_type": "stream",
     "text": [
      "{\n",
      "    \"referrals_made\": 1,\n",
      "    \"is_strava_authenticated\": true,\n",
      "    \"weight\": 251.0,\n",
      "    \"first_name\": \"Angela\",\n",
      "    \"block_explicit\": false,\n",
      "    \"paired_devices\": [\n",
      "        {\n",
      "            \"name\": \"RHYTHM+2142737\",\n",
      "            \"paired_device_type\": \"heart_rate_monitor\",\n",
      "            \"serial_number\": \"ED:8A:0D:F0:3F:DF\"\n",
      "        }\n",
      "    ],\n",
      "    \"estimated_cycling_ftp\": 190,\n",
      "    \"customized_heart_rate_zones\": [],\n",
      "    \"referral_code\": null,\n",
      "    \"last_workout_at\": 1603041305,\n",
      "    \"total_non_pedaling_metric_workouts\": 85,\n",
      "    \"has_active_device_subscription\": true,\n",
      "    \"subscription_credits_used\": 0,\n",
      "    \"is_profile_private\": false,\n",
      "    \"height\": 64.0,\n",
      "    \"last_name\": \"Wolff\",\n",
      "    \"cycling_ftp\": 0,\n",
      "    \"is_external_beta_tester\": false,\n",
      "    \"instructor_id\": null,\n",
      "    \"has_active_digital_subscription\": false,\n",
      "    \"phone_number\": \"7545249439\",\n",
      "    \"birthday\": 48470400,\n",
      "    \"name\": \"Angela Wolff\",\n",
      "    \"quick_hits\": {\n",
      "        \"quick_hits_enabled\": true,\n",
      "        \"speed_shortcuts\": null,\n",
      "        \"incline_shortcuts\": null\n",
      "    },\n",
      "    \"default_heart_rate_zones\": [\n",
      "        0,\n",
      "        111.15,\n",
      "        128.25,\n",
      "        145.35,\n",
      "        162.45\n",
      "    ],\n",
      "    \"username\": \"warrior_woman\",\n",
      "    \"customized_max_heart_rate\": 0,\n",
      "    \"is_internal_beta_tester\": false,\n",
      "    \"is_fitbit_authenticated\": false,\n",
      "    \"location\": \"\\ud83c\\uddec\\ud83c\\udde7\\ud83c\\udf08 London\",\n",
      "    \"contract_agreements\": [\n",
      "        {\n",
      "            \"contract_type\": \"privacy_policy\",\n",
      "            \"contract_id\": \"d871f217649448eaa39da99d99360d6e\",\n",
      "            \"contract_created_at\": 1600101599,\n",
      "            \"bike_contract_url\": \"https://s3.us-east-2.amazonaws.com/contract-terms-html/prod/en-gb/privacy_1600101598.html\",\n",
      "            \"tread_contract_url\": \"https://s3.us-east-2.amazonaws.com/contract-terms-html/prod/en-gb/privacy_1600101598.html\",\n",
      "            \"agreed_at\": 1574327850,\n",
      "            \"contract_display_name\": \"Privacy Policy\"\n",
      "        },\n",
      "        {\n",
      "            \"contract_type\": \"subscription_terms\",\n",
      "            \"contract_id\": \"c3117e21130241e18a747edab068d36a\",\n",
      "            \"contract_created_at\": 1608137162,\n",
      "            \"bike_contract_url\": \"https://s3.us-east-2.amazonaws.com/contract-terms-html/prod/en-gb/subscription_tos_1608137162.html\",\n",
      "            \"tread_contract_url\": \"https://s3.us-east-2.amazonaws.com/contract-terms-html/prod/en-gb/subscription_tos_1608137162.html\",\n",
      "            \"agreed_at\": 1574327850,\n",
      "            \"contract_display_name\": \"Membership Terms\"\n",
      "        },\n",
      "        {\n",
      "            \"contract_type\": \"terms_of_service\",\n",
      "            \"contract_id\": \"7ef6d430b0ed49b38cf1dceb02878170\",\n",
      "            \"contract_created_at\": 1604349406,\n",
      "            \"bike_contract_url\": \"https://s3.us-east-2.amazonaws.com/contract-terms-html/prod/en-gb/tos_1604349406.html\",\n",
      "            \"tread_contract_url\": \"https://s3.us-east-2.amazonaws.com/contract-terms-html/prod/en-gb/tos_1604349406.html\",\n",
      "            \"agreed_at\": 1574096742,\n",
      "            \"contract_display_name\": \"Terms of Service\"\n",
      "        }\n",
      "    ],\n",
      "    \"facebook_access_token\": null,\n",
      "    \"id\": \"5272efe184544d80999c83364c9554bf\",\n",
      "    \"total_following\": 600,\n",
      "    \"facebook_id\": null,\n",
      "    \"gender\": \"female\",\n",
      "    \"total_pedaling_metric_workouts\": 221,\n",
      "    \"has_signed_waiver\": false,\n",
      "    \"member_groups\": [],\n",
      "    \"cycling_ftp_workout_id\": \"7509e82e8bca431288d79b42a3b981f4\",\n",
      "    \"cycling_ftp_source\": \"ftp_workout_source\",\n",
      "    \"subscription_credits\": 0,\n",
      "    \"is_complete_profile\": true,\n",
      "    \"allow_marketing\": true,\n",
      "    \"obfuscated_email\": \"83d45f17f259ec8a2721c64fcabb62c7e1a6f35e265fbc257b5bac60bb4d224c\",\n",
      "    \"is_provisional\": false,\n",
      "    \"created_country\": \"GB\",\n",
      "    \"cycling_workout_ftp\": 191,\n",
      "    \"external_music_auth_list\": [\n",
      "        {\n",
      "            \"provider\": \"apple_music\",\n",
      "            \"status\": \"disconnected\",\n",
      "            \"email\": null\n",
      "        },\n",
      "        {\n",
      "            \"provider\": \"spotify\",\n",
      "            \"status\": \"connected\",\n",
      "            \"email\": \"warriorwomenblog@gmail.com\"\n",
      "        }\n",
      "    ],\n",
      "    \"total_workouts\": 306,\n",
      "    \"email\": \"warriorwomenblog@gmail.com\",\n",
      "    \"created_at\": 1574096742,\n",
      "    \"total_pending_followers\": 0,\n",
      "    \"default_max_heart_rate\": 171,\n",
      "    \"image_url\": \"https://s3.amazonaws.com/peloton-profile-images/3f975dd19de03e2cb112c3d5da81bdf3acb2c457/55cad85751d84372aed142e83e2b2754\",\n",
      "    \"v1_referrals_made\": 0,\n",
      "    \"total_followers\": 465,\n",
      "    \"workout_counts\": [\n",
      "        {\n",
      "            \"name\": \"Strength\",\n",
      "            \"slug\": \"strength\",\n",
      "            \"count\": 0,\n",
      "            \"icon_url\": \"https://s3.amazonaws.com/static-cdn.pelotoncycle.com/workout-count-icons/zero-strength2.png\"\n",
      "        },\n",
      "        {\n",
      "            \"name\": \"Cardio\",\n",
      "            \"slug\": \"cardio\",\n",
      "            \"count\": 2,\n",
      "            \"icon_url\": \"https://s3.amazonaws.com/static-cdn.pelotoncycle.com/workout-count-icons/nonzero-cardio2.png\"\n",
      "        },\n",
      "        {\n",
      "            \"name\": \"Yoga\",\n",
      "            \"slug\": \"yoga\",\n",
      "            \"count\": 0,\n",
      "            \"icon_url\": \"https://s3.amazonaws.com/static-cdn.pelotoncycle.com/workout-count-icons/zero-yoga2.png\"\n",
      "        },\n",
      "        {\n",
      "            \"name\": \"Running\",\n",
      "            \"slug\": \"running\",\n",
      "            \"count\": 7,\n",
      "            \"icon_url\": \"https://s3.amazonaws.com/static-cdn.pelotoncycle.com/workout-count-icons/nonzero-running2.png\"\n",
      "        },\n",
      "        {\n",
      "            \"name\": \"Cycling\",\n",
      "            \"slug\": \"cycling\",\n",
      "            \"count\": 221,\n",
      "            \"icon_url\": \"https://s3.amazonaws.com/static-cdn.pelotoncycle.com/workout-count-icons/nonzero-cycling2.png\"\n",
      "        },\n",
      "        {\n",
      "            \"name\": \"Walking\",\n",
      "            \"slug\": \"walking\",\n",
      "            \"count\": 12,\n",
      "            \"icon_url\": \"https://s3.amazonaws.com/static-cdn.pelotoncycle.com/workout-count-icons/nonzero-walking2.png\"\n",
      "        },\n",
      "        {\n",
      "            \"name\": \"Meditation\",\n",
      "            \"slug\": \"meditation\",\n",
      "            \"count\": 9,\n",
      "            \"icon_url\": \"https://s3.amazonaws.com/static-cdn.pelotoncycle.com/workout-count-icons/nonzero-meditation2.png\"\n",
      "        },\n",
      "        {\n",
      "            \"name\": \"Bike Bootcamp\",\n",
      "            \"slug\": \"bike_bootcamp\",\n",
      "            \"count\": 0,\n",
      "            \"icon_url\": \"https://s3.amazonaws.com/static-cdn.pelotoncycle.com/workout-count-icons/zero-bike_bootcamp2.png\"\n",
      "        },\n",
      "        {\n",
      "            \"name\": \"Stretching\",\n",
      "            \"slug\": \"stretching\",\n",
      "            \"count\": 54,\n",
      "            \"icon_url\": \"https://s3.amazonaws.com/static-cdn.pelotoncycle.com/workout-count-icons/nonzero-stretching2.png\"\n",
      "        },\n",
      "        {\n",
      "            \"name\": \"Tread Bootcamp\",\n",
      "            \"slug\": \"circuit\",\n",
      "            \"count\": 1,\n",
      "            \"icon_url\": \"https://s3.amazonaws.com/static-cdn.pelotoncycle.com/workout-count-icons/nonzero-circuit2.png\"\n",
      "        }\n",
      "    ],\n",
      "    \"can_charge\": true,\n",
      "    \"is_demo\": false,\n",
      "    \"middle_initial\": \"\",\n",
      "    \"hardware_settings\": null\n",
      "}\n"
     ]
    }
   ],
   "source": [
    "url = 'https://api.onepeloton.com/api/me'\n",
    "# getting data from source\n",
    "data = s.get(url).json()\n",
    "\n",
    "pretty_data = json.dumps(data, indent=4)\n",
    "\n",
    "print(pretty_data)"
   ]
  },
  {
   "cell_type": "markdown",
   "metadata": {},
   "source": [
    "Show your peloton_id."
   ]
  },
  {
   "cell_type": "code",
   "execution_count": 4,
   "metadata": {},
   "outputs": [
    {
     "name": "stdout",
     "output_type": "stream",
     "text": [
      "5272efe184544d80999c83364c9554bf\n"
     ]
    }
   ],
   "source": [
    "peloton_id = data['id']\n",
    "print(peloton_id)"
   ]
  },
  {
   "cell_type": "markdown",
   "metadata": {},
   "source": [
    "Build the core DataFrame from workoutdata."
   ]
  },
  {
   "cell_type": "code",
   "execution_count": 5,
   "metadata": {},
   "outputs": [],
   "source": [
    "df = pd.DataFrame(columns=[\"percentile\", \n",
    "                            \"workout_date\", \n",
    "                            \"difficulty_rating_avg\", \n",
    "                            \"duration_mins\", \n",
    "                            \"class_length\",\n",
    "                            \"total_work\"])\n",
    "\n",
    "races = 50\n",
    "\n",
    "\n",
    "def get_workout(workout_id: str):\n",
    "    url = 'https://api.onepeloton.com/api/workout/' + workout_id\n",
    "    # getting data from source\n",
    "    data = s.get(url).json()\n",
    "    \n",
    "    leaderboard_rank = data['leaderboard_rank']\n",
    "    total_leaderboard_users= data['total_leaderboard_users']\n",
    "    avg_pos = (leaderboard_rank / total_leaderboard_users)\n",
    "    timestamp = datetime.fromtimestamp(data['created_at'])\n",
    "    difficulty_rating_avg = data['ride']['difficulty_rating_avg']\n",
    "    pdd = (data['ride']['pedaling_duration'] / 60)\n",
    "    total_work = data['total_work']/ 1000\n",
    "    new_row = pd.Series({\"percentile\": avg_pos, \n",
    "                         \"workout_date\": timestamp, \n",
    "                         \"difficulty_rating_avg\": difficulty_rating_avg, \n",
    "                         \"duration_mins\": pdd, \n",
    "                         \"class_length\": '{0} mins'.format(int(pdd)),\n",
    "                         \"total_work\": total_work})\n",
    "    global df\n",
    "    df = df.append(new_row, ignore_index=True)\n",
    "\n",
    "\n",
    "def get_session_data(session_type: str):\n",
    "    for w in get_data.json()['data']:\n",
    "        if w['ride']['difficulty_level'] !=  \"beginner\":\n",
    "            if w['fitness_discipline'] == session_type:\n",
    "                get_workout(w['id'])\n",
    " \n",
    "\n",
    "url = 'https://api.onepeloton.com/api/user/{0}/workouts/?joins=ride,ride.instructor&limit={1}&page=0'.format(peloton_id, races)\n",
    "# getting data from source\n",
    "get_data = s.get(url)\n",
    "get_session_data('cycling')\n",
    "\n",
    "\n",
    "df['workout_date'] = pd.to_datetime(df['workout_date'])"
   ]
  },
  {
   "cell_type": "code",
   "execution_count": 6,
   "metadata": {},
   "outputs": [
    {
     "name": "stdout",
     "output_type": "stream",
     "text": [
      "   percentile        workout_date  difficulty_rating_avg  duration_mins  \\\n",
      "0    0.833205 2020-12-27 11:43:21                 7.6513           30.0   \n",
      "1    0.840894 2020-12-07 18:21:43                 6.9272           20.0   \n",
      "2    0.500141 2020-11-24 17:34:35                 5.5136           20.0   \n",
      "3    0.674268 2020-11-23 22:29:24                 7.4880           20.0   \n",
      "4    0.700144 2020-11-19 18:09:17                 8.3035           30.0   \n",
      "\n",
      "  class_length  total_work  \n",
      "0      30 mins   146.40964  \n",
      "1      20 mins    84.63181  \n",
      "2      20 mins   101.63987  \n",
      "3      20 mins   108.84294  \n",
      "4      30 mins   151.14779  \n"
     ]
    }
   ],
   "source": [
    "print(df.head())"
   ]
  },
  {
   "cell_type": "markdown",
   "metadata": {},
   "source": [
    "## Build a scatter plot"
   ]
  },
  {
   "cell_type": "code",
   "execution_count": 8,
   "metadata": {},
   "outputs": [
    {
     "data": {
      "application/vnd.plotly.v1+json": {
       "config": {
        "plotlyServerURL": "https://plot.ly"
       },
       "data": [
        {
         "hovertemplate": "workout_date=%{x}<br>percentile=%{y}<extra></extra>",
         "legendgroup": "",
         "marker": {
          "color": "#636efa",
          "symbol": "circle"
         },
         "mode": "markers",
         "name": "",
         "orientation": "v",
         "showlegend": false,
         "type": "scatter",
         "x": [
          "2020-12-27T11:43:21",
          "2020-12-07T18:21:43",
          "2020-11-24T17:34:35",
          "2020-11-23T22:29:24",
          "2020-11-19T18:09:17",
          "2020-11-16T17:40:53",
          "2020-11-02T18:06:13",
          "2020-10-29T17:16:22",
          "2020-10-21T18:10:48",
          "2020-10-18T18:15:05",
          "2020-10-08T10:12:06",
          "2020-10-06T17:52:44",
          "2020-10-03T13:53:39",
          "2020-10-02T17:35:37",
          "2020-09-30T18:37:27",
          "2020-09-29T12:37:29",
          "2020-09-28T12:11:50",
          "2020-09-24T10:47:15",
          "2020-09-22T13:51:45",
          "2020-09-19T11:00:20",
          "2020-09-16T17:54:31",
          "2020-09-15T13:02:22",
          "2020-09-14T12:48:10",
          "2020-09-12T10:06:06",
          "2020-09-09T18:15:12",
          "2020-09-07T08:42:36",
          "2020-09-06T12:23:55",
          "2020-09-04T13:23:47",
          "2020-09-02T18:45:54",
          "2020-08-29T10:06:23",
          "2020-08-28T19:01:40",
          "2020-08-25T12:37:37"
         ],
         "xaxis": "x",
         "y": [
          0.8332052578361981,
          0.8408942345404629,
          0.5001406884354106,
          0.6742675417822586,
          0.7001435490946857,
          0.852122251123197,
          0.7683664059564875,
          0.7306978470675576,
          0.5398657498362803,
          0.6468894623472456,
          0.7786008722145887,
          0.42747074707470745,
          0.7593232044198895,
          0.3245227986607297,
          0.5966759633445273,
          0.6211932699117585,
          0.938367442954599,
          0.5968285703085185,
          0.5359749412685982,
          0.9355194729185131,
          0.6917167570737428,
          0.5660814839350778,
          0.4349311334811208,
          0.5613528442678554,
          0.5484195017412269,
          0.5807844217874529,
          0.6627029322626102,
          0.8815563298490128,
          0.45347018964756824,
          0.49487390155033223,
          0.5625061449218366,
          0.45372731731240806
         ],
         "yaxis": "y"
        },
        {
         "hovertemplate": "<b>OLS trendline</b><br>percentile = 2.12416e-08 * workout_date + -33.3872<br>R<sup>2</sup>=0.142151<br><br>workout_date=%{x}<br>percentile=%{y} <b>(trend)</b><extra></extra>",
         "legendgroup": "",
         "line": {
          "color": "red"
         },
         "marker": {
          "color": "#636efa",
          "symbol": "circle"
         },
         "mode": "lines",
         "name": "",
         "showlegend": false,
         "type": "scatter",
         "x": [
          "2020-08-25T12:37:37",
          "2020-08-28T19:01:40",
          "2020-08-29T10:06:23",
          "2020-09-02T18:45:54",
          "2020-09-04T13:23:47",
          "2020-09-06T12:23:55",
          "2020-09-07T08:42:36",
          "2020-09-09T18:15:12",
          "2020-09-12T10:06:06",
          "2020-09-14T12:48:10",
          "2020-09-15T13:02:22",
          "2020-09-16T17:54:31",
          "2020-09-19T11:00:20",
          "2020-09-22T13:51:45",
          "2020-09-24T10:47:15",
          "2020-09-28T12:11:50",
          "2020-09-29T12:37:29",
          "2020-09-30T18:37:27",
          "2020-10-02T17:35:37",
          "2020-10-03T13:53:39",
          "2020-10-06T17:52:44",
          "2020-10-08T10:12:06",
          "2020-10-18T18:15:05",
          "2020-10-21T18:10:48",
          "2020-10-29T17:16:22",
          "2020-11-02T18:06:13",
          "2020-11-16T17:40:53",
          "2020-11-19T18:09:17",
          "2020-11-23T22:29:24",
          "2020-11-24T17:34:35",
          "2020-12-07T18:21:43",
          "2020-12-27T11:43:21"
         ],
         "xaxis": "x",
         "y": [
          0.5645170132069381,
          0.5705123170941775,
          0.5716653769784301,
          0.5796686105073334,
          0.5829286285537947,
          0.5865228837882981,
          0.5880760936660963,
          0.5924764266134659,
          0.5973589022805257,
          0.6012360111785782,
          0.6030893866556326,
          0.605297008944568,
          0.6102749657784727,
          0.61599926883666,
          0.619434679095491,
          0.6268835908157371,
          0.6287515592987134,
          0.631045613816319,
          0.6346373625374326,
          0.6361897439913164,
          0.642000288103425,
          0.6450837668890088,
          0.6640521043497216,
          0.6695524780506545,
          0.6841653236637057,
          0.6915699678084906,
          0.7172315669273175,
          0.7227735954821313,
          0.7304462241432432,
          0.731905758393502,
          0.7558244385575463,
          0.7920222729188495
         ],
         "yaxis": "y"
        }
       ],
       "layout": {
        "legend": {
         "tracegroupgap": 0
        },
        "template": {
         "data": {
          "bar": [
           {
            "error_x": {
             "color": "#2a3f5f"
            },
            "error_y": {
             "color": "#2a3f5f"
            },
            "marker": {
             "line": {
              "color": "#E5ECF6",
              "width": 0.5
             }
            },
            "type": "bar"
           }
          ],
          "barpolar": [
           {
            "marker": {
             "line": {
              "color": "#E5ECF6",
              "width": 0.5
             }
            },
            "type": "barpolar"
           }
          ],
          "carpet": [
           {
            "aaxis": {
             "endlinecolor": "#2a3f5f",
             "gridcolor": "white",
             "linecolor": "white",
             "minorgridcolor": "white",
             "startlinecolor": "#2a3f5f"
            },
            "baxis": {
             "endlinecolor": "#2a3f5f",
             "gridcolor": "white",
             "linecolor": "white",
             "minorgridcolor": "white",
             "startlinecolor": "#2a3f5f"
            },
            "type": "carpet"
           }
          ],
          "choropleth": [
           {
            "colorbar": {
             "outlinewidth": 0,
             "ticks": ""
            },
            "type": "choropleth"
           }
          ],
          "contour": [
           {
            "colorbar": {
             "outlinewidth": 0,
             "ticks": ""
            },
            "colorscale": [
             [
              0,
              "#0d0887"
             ],
             [
              0.1111111111111111,
              "#46039f"
             ],
             [
              0.2222222222222222,
              "#7201a8"
             ],
             [
              0.3333333333333333,
              "#9c179e"
             ],
             [
              0.4444444444444444,
              "#bd3786"
             ],
             [
              0.5555555555555556,
              "#d8576b"
             ],
             [
              0.6666666666666666,
              "#ed7953"
             ],
             [
              0.7777777777777778,
              "#fb9f3a"
             ],
             [
              0.8888888888888888,
              "#fdca26"
             ],
             [
              1,
              "#f0f921"
             ]
            ],
            "type": "contour"
           }
          ],
          "contourcarpet": [
           {
            "colorbar": {
             "outlinewidth": 0,
             "ticks": ""
            },
            "type": "contourcarpet"
           }
          ],
          "heatmap": [
           {
            "colorbar": {
             "outlinewidth": 0,
             "ticks": ""
            },
            "colorscale": [
             [
              0,
              "#0d0887"
             ],
             [
              0.1111111111111111,
              "#46039f"
             ],
             [
              0.2222222222222222,
              "#7201a8"
             ],
             [
              0.3333333333333333,
              "#9c179e"
             ],
             [
              0.4444444444444444,
              "#bd3786"
             ],
             [
              0.5555555555555556,
              "#d8576b"
             ],
             [
              0.6666666666666666,
              "#ed7953"
             ],
             [
              0.7777777777777778,
              "#fb9f3a"
             ],
             [
              0.8888888888888888,
              "#fdca26"
             ],
             [
              1,
              "#f0f921"
             ]
            ],
            "type": "heatmap"
           }
          ],
          "heatmapgl": [
           {
            "colorbar": {
             "outlinewidth": 0,
             "ticks": ""
            },
            "colorscale": [
             [
              0,
              "#0d0887"
             ],
             [
              0.1111111111111111,
              "#46039f"
             ],
             [
              0.2222222222222222,
              "#7201a8"
             ],
             [
              0.3333333333333333,
              "#9c179e"
             ],
             [
              0.4444444444444444,
              "#bd3786"
             ],
             [
              0.5555555555555556,
              "#d8576b"
             ],
             [
              0.6666666666666666,
              "#ed7953"
             ],
             [
              0.7777777777777778,
              "#fb9f3a"
             ],
             [
              0.8888888888888888,
              "#fdca26"
             ],
             [
              1,
              "#f0f921"
             ]
            ],
            "type": "heatmapgl"
           }
          ],
          "histogram": [
           {
            "marker": {
             "colorbar": {
              "outlinewidth": 0,
              "ticks": ""
             }
            },
            "type": "histogram"
           }
          ],
          "histogram2d": [
           {
            "colorbar": {
             "outlinewidth": 0,
             "ticks": ""
            },
            "colorscale": [
             [
              0,
              "#0d0887"
             ],
             [
              0.1111111111111111,
              "#46039f"
             ],
             [
              0.2222222222222222,
              "#7201a8"
             ],
             [
              0.3333333333333333,
              "#9c179e"
             ],
             [
              0.4444444444444444,
              "#bd3786"
             ],
             [
              0.5555555555555556,
              "#d8576b"
             ],
             [
              0.6666666666666666,
              "#ed7953"
             ],
             [
              0.7777777777777778,
              "#fb9f3a"
             ],
             [
              0.8888888888888888,
              "#fdca26"
             ],
             [
              1,
              "#f0f921"
             ]
            ],
            "type": "histogram2d"
           }
          ],
          "histogram2dcontour": [
           {
            "colorbar": {
             "outlinewidth": 0,
             "ticks": ""
            },
            "colorscale": [
             [
              0,
              "#0d0887"
             ],
             [
              0.1111111111111111,
              "#46039f"
             ],
             [
              0.2222222222222222,
              "#7201a8"
             ],
             [
              0.3333333333333333,
              "#9c179e"
             ],
             [
              0.4444444444444444,
              "#bd3786"
             ],
             [
              0.5555555555555556,
              "#d8576b"
             ],
             [
              0.6666666666666666,
              "#ed7953"
             ],
             [
              0.7777777777777778,
              "#fb9f3a"
             ],
             [
              0.8888888888888888,
              "#fdca26"
             ],
             [
              1,
              "#f0f921"
             ]
            ],
            "type": "histogram2dcontour"
           }
          ],
          "mesh3d": [
           {
            "colorbar": {
             "outlinewidth": 0,
             "ticks": ""
            },
            "type": "mesh3d"
           }
          ],
          "parcoords": [
           {
            "line": {
             "colorbar": {
              "outlinewidth": 0,
              "ticks": ""
             }
            },
            "type": "parcoords"
           }
          ],
          "pie": [
           {
            "automargin": true,
            "type": "pie"
           }
          ],
          "scatter": [
           {
            "marker": {
             "colorbar": {
              "outlinewidth": 0,
              "ticks": ""
             }
            },
            "type": "scatter"
           }
          ],
          "scatter3d": [
           {
            "line": {
             "colorbar": {
              "outlinewidth": 0,
              "ticks": ""
             }
            },
            "marker": {
             "colorbar": {
              "outlinewidth": 0,
              "ticks": ""
             }
            },
            "type": "scatter3d"
           }
          ],
          "scattercarpet": [
           {
            "marker": {
             "colorbar": {
              "outlinewidth": 0,
              "ticks": ""
             }
            },
            "type": "scattercarpet"
           }
          ],
          "scattergeo": [
           {
            "marker": {
             "colorbar": {
              "outlinewidth": 0,
              "ticks": ""
             }
            },
            "type": "scattergeo"
           }
          ],
          "scattergl": [
           {
            "marker": {
             "colorbar": {
              "outlinewidth": 0,
              "ticks": ""
             }
            },
            "type": "scattergl"
           }
          ],
          "scattermapbox": [
           {
            "marker": {
             "colorbar": {
              "outlinewidth": 0,
              "ticks": ""
             }
            },
            "type": "scattermapbox"
           }
          ],
          "scatterpolar": [
           {
            "marker": {
             "colorbar": {
              "outlinewidth": 0,
              "ticks": ""
             }
            },
            "type": "scatterpolar"
           }
          ],
          "scatterpolargl": [
           {
            "marker": {
             "colorbar": {
              "outlinewidth": 0,
              "ticks": ""
             }
            },
            "type": "scatterpolargl"
           }
          ],
          "scatterternary": [
           {
            "marker": {
             "colorbar": {
              "outlinewidth": 0,
              "ticks": ""
             }
            },
            "type": "scatterternary"
           }
          ],
          "surface": [
           {
            "colorbar": {
             "outlinewidth": 0,
             "ticks": ""
            },
            "colorscale": [
             [
              0,
              "#0d0887"
             ],
             [
              0.1111111111111111,
              "#46039f"
             ],
             [
              0.2222222222222222,
              "#7201a8"
             ],
             [
              0.3333333333333333,
              "#9c179e"
             ],
             [
              0.4444444444444444,
              "#bd3786"
             ],
             [
              0.5555555555555556,
              "#d8576b"
             ],
             [
              0.6666666666666666,
              "#ed7953"
             ],
             [
              0.7777777777777778,
              "#fb9f3a"
             ],
             [
              0.8888888888888888,
              "#fdca26"
             ],
             [
              1,
              "#f0f921"
             ]
            ],
            "type": "surface"
           }
          ],
          "table": [
           {
            "cells": {
             "fill": {
              "color": "#EBF0F8"
             },
             "line": {
              "color": "white"
             }
            },
            "header": {
             "fill": {
              "color": "#C8D4E3"
             },
             "line": {
              "color": "white"
             }
            },
            "type": "table"
           }
          ]
         },
         "layout": {
          "annotationdefaults": {
           "arrowcolor": "#2a3f5f",
           "arrowhead": 0,
           "arrowwidth": 1
          },
          "autotypenumbers": "strict",
          "coloraxis": {
           "colorbar": {
            "outlinewidth": 0,
            "ticks": ""
           }
          },
          "colorscale": {
           "diverging": [
            [
             0,
             "#8e0152"
            ],
            [
             0.1,
             "#c51b7d"
            ],
            [
             0.2,
             "#de77ae"
            ],
            [
             0.3,
             "#f1b6da"
            ],
            [
             0.4,
             "#fde0ef"
            ],
            [
             0.5,
             "#f7f7f7"
            ],
            [
             0.6,
             "#e6f5d0"
            ],
            [
             0.7,
             "#b8e186"
            ],
            [
             0.8,
             "#7fbc41"
            ],
            [
             0.9,
             "#4d9221"
            ],
            [
             1,
             "#276419"
            ]
           ],
           "sequential": [
            [
             0,
             "#0d0887"
            ],
            [
             0.1111111111111111,
             "#46039f"
            ],
            [
             0.2222222222222222,
             "#7201a8"
            ],
            [
             0.3333333333333333,
             "#9c179e"
            ],
            [
             0.4444444444444444,
             "#bd3786"
            ],
            [
             0.5555555555555556,
             "#d8576b"
            ],
            [
             0.6666666666666666,
             "#ed7953"
            ],
            [
             0.7777777777777778,
             "#fb9f3a"
            ],
            [
             0.8888888888888888,
             "#fdca26"
            ],
            [
             1,
             "#f0f921"
            ]
           ],
           "sequentialminus": [
            [
             0,
             "#0d0887"
            ],
            [
             0.1111111111111111,
             "#46039f"
            ],
            [
             0.2222222222222222,
             "#7201a8"
            ],
            [
             0.3333333333333333,
             "#9c179e"
            ],
            [
             0.4444444444444444,
             "#bd3786"
            ],
            [
             0.5555555555555556,
             "#d8576b"
            ],
            [
             0.6666666666666666,
             "#ed7953"
            ],
            [
             0.7777777777777778,
             "#fb9f3a"
            ],
            [
             0.8888888888888888,
             "#fdca26"
            ],
            [
             1,
             "#f0f921"
            ]
           ]
          },
          "colorway": [
           "#636efa",
           "#EF553B",
           "#00cc96",
           "#ab63fa",
           "#FFA15A",
           "#19d3f3",
           "#FF6692",
           "#B6E880",
           "#FF97FF",
           "#FECB52"
          ],
          "font": {
           "color": "#2a3f5f"
          },
          "geo": {
           "bgcolor": "white",
           "lakecolor": "white",
           "landcolor": "#E5ECF6",
           "showlakes": true,
           "showland": true,
           "subunitcolor": "white"
          },
          "hoverlabel": {
           "align": "left"
          },
          "hovermode": "closest",
          "mapbox": {
           "style": "light"
          },
          "paper_bgcolor": "white",
          "plot_bgcolor": "#E5ECF6",
          "polar": {
           "angularaxis": {
            "gridcolor": "white",
            "linecolor": "white",
            "ticks": ""
           },
           "bgcolor": "#E5ECF6",
           "radialaxis": {
            "gridcolor": "white",
            "linecolor": "white",
            "ticks": ""
           }
          },
          "scene": {
           "xaxis": {
            "backgroundcolor": "#E5ECF6",
            "gridcolor": "white",
            "gridwidth": 2,
            "linecolor": "white",
            "showbackground": true,
            "ticks": "",
            "zerolinecolor": "white"
           },
           "yaxis": {
            "backgroundcolor": "#E5ECF6",
            "gridcolor": "white",
            "gridwidth": 2,
            "linecolor": "white",
            "showbackground": true,
            "ticks": "",
            "zerolinecolor": "white"
           },
           "zaxis": {
            "backgroundcolor": "#E5ECF6",
            "gridcolor": "white",
            "gridwidth": 2,
            "linecolor": "white",
            "showbackground": true,
            "ticks": "",
            "zerolinecolor": "white"
           }
          },
          "shapedefaults": {
           "line": {
            "color": "#2a3f5f"
           }
          },
          "ternary": {
           "aaxis": {
            "gridcolor": "white",
            "linecolor": "white",
            "ticks": ""
           },
           "baxis": {
            "gridcolor": "white",
            "linecolor": "white",
            "ticks": ""
           },
           "bgcolor": "#E5ECF6",
           "caxis": {
            "gridcolor": "white",
            "linecolor": "white",
            "ticks": ""
           }
          },
          "title": {
           "x": 0.05
          },
          "xaxis": {
           "automargin": true,
           "gridcolor": "white",
           "linecolor": "white",
           "ticks": "",
           "title": {
            "standoff": 15
           },
           "zerolinecolor": "white",
           "zerolinewidth": 2
          },
          "yaxis": {
           "automargin": true,
           "gridcolor": "white",
           "linecolor": "white",
           "ticks": "",
           "title": {
            "standoff": 15
           },
           "zerolinecolor": "white",
           "zerolinewidth": 2
          }
         }
        },
        "title": {
         "text": "Workout % position"
        },
        "xaxis": {
         "anchor": "y",
         "domain": [
          0,
          1
         ],
         "title": {
          "text": "workout_date"
         }
        },
        "yaxis": {
         "anchor": "x",
         "domain": [
          0,
          1
         ],
         "range": [
          0,
          1
         ],
         "title": {
          "text": "percentile"
         }
        }
       }
      },
      "text/html": [
       "<div>                            <div id=\"3cb47817-5ae0-4eec-837d-5d8e8dfb7ba5\" class=\"plotly-graph-div\" style=\"height:525px; width:100%;\"></div>            <script type=\"text/javascript\">                require([\"plotly\"], function(Plotly) {                    window.PLOTLYENV=window.PLOTLYENV || {};                                    if (document.getElementById(\"3cb47817-5ae0-4eec-837d-5d8e8dfb7ba5\")) {                    Plotly.newPlot(                        \"3cb47817-5ae0-4eec-837d-5d8e8dfb7ba5\",                        [{\"hovertemplate\": \"workout_date=%{x}<br>percentile=%{y}<extra></extra>\", \"legendgroup\": \"\", \"marker\": {\"color\": \"#636efa\", \"symbol\": \"circle\"}, \"mode\": \"markers\", \"name\": \"\", \"orientation\": \"v\", \"showlegend\": false, \"type\": \"scatter\", \"x\": [\"2020-12-27T11:43:21\", \"2020-12-07T18:21:43\", \"2020-11-24T17:34:35\", \"2020-11-23T22:29:24\", \"2020-11-19T18:09:17\", \"2020-11-16T17:40:53\", \"2020-11-02T18:06:13\", \"2020-10-29T17:16:22\", \"2020-10-21T18:10:48\", \"2020-10-18T18:15:05\", \"2020-10-08T10:12:06\", \"2020-10-06T17:52:44\", \"2020-10-03T13:53:39\", \"2020-10-02T17:35:37\", \"2020-09-30T18:37:27\", \"2020-09-29T12:37:29\", \"2020-09-28T12:11:50\", \"2020-09-24T10:47:15\", \"2020-09-22T13:51:45\", \"2020-09-19T11:00:20\", \"2020-09-16T17:54:31\", \"2020-09-15T13:02:22\", \"2020-09-14T12:48:10\", \"2020-09-12T10:06:06\", \"2020-09-09T18:15:12\", \"2020-09-07T08:42:36\", \"2020-09-06T12:23:55\", \"2020-09-04T13:23:47\", \"2020-09-02T18:45:54\", \"2020-08-29T10:06:23\", \"2020-08-28T19:01:40\", \"2020-08-25T12:37:37\"], \"xaxis\": \"x\", \"y\": [0.8332052578361981, 0.8408942345404629, 0.5001406884354106, 0.6742675417822586, 0.7001435490946857, 0.852122251123197, 0.7683664059564875, 0.7306978470675576, 0.5398657498362803, 0.6468894623472456, 0.7786008722145887, 0.42747074707470745, 0.7593232044198895, 0.3245227986607297, 0.5966759633445273, 0.6211932699117585, 0.938367442954599, 0.5968285703085185, 0.5359749412685982, 0.9355194729185131, 0.6917167570737428, 0.5660814839350778, 0.4349311334811208, 0.5613528442678554, 0.5484195017412269, 0.5807844217874529, 0.6627029322626102, 0.8815563298490128, 0.45347018964756824, 0.49487390155033223, 0.5625061449218366, 0.45372731731240806], \"yaxis\": \"y\"}, {\"hovertemplate\": \"<b>OLS trendline</b><br>percentile = 2.12416e-08 * workout_date + -33.3872<br>R<sup>2</sup>=0.142151<br><br>workout_date=%{x}<br>percentile=%{y} <b>(trend)</b><extra></extra>\", \"legendgroup\": \"\", \"line\": {\"color\": \"red\"}, \"marker\": {\"color\": \"#636efa\", \"symbol\": \"circle\"}, \"mode\": \"lines\", \"name\": \"\", \"showlegend\": false, \"type\": \"scatter\", \"x\": [\"2020-08-25T12:37:37\", \"2020-08-28T19:01:40\", \"2020-08-29T10:06:23\", \"2020-09-02T18:45:54\", \"2020-09-04T13:23:47\", \"2020-09-06T12:23:55\", \"2020-09-07T08:42:36\", \"2020-09-09T18:15:12\", \"2020-09-12T10:06:06\", \"2020-09-14T12:48:10\", \"2020-09-15T13:02:22\", \"2020-09-16T17:54:31\", \"2020-09-19T11:00:20\", \"2020-09-22T13:51:45\", \"2020-09-24T10:47:15\", \"2020-09-28T12:11:50\", \"2020-09-29T12:37:29\", \"2020-09-30T18:37:27\", \"2020-10-02T17:35:37\", \"2020-10-03T13:53:39\", \"2020-10-06T17:52:44\", \"2020-10-08T10:12:06\", \"2020-10-18T18:15:05\", \"2020-10-21T18:10:48\", \"2020-10-29T17:16:22\", \"2020-11-02T18:06:13\", \"2020-11-16T17:40:53\", \"2020-11-19T18:09:17\", \"2020-11-23T22:29:24\", \"2020-11-24T17:34:35\", \"2020-12-07T18:21:43\", \"2020-12-27T11:43:21\"], \"xaxis\": \"x\", \"y\": [0.5645170132069381, 0.5705123170941775, 0.5716653769784301, 0.5796686105073334, 0.5829286285537947, 0.5865228837882981, 0.5880760936660963, 0.5924764266134659, 0.5973589022805257, 0.6012360111785782, 0.6030893866556326, 0.605297008944568, 0.6102749657784727, 0.61599926883666, 0.619434679095491, 0.6268835908157371, 0.6287515592987134, 0.631045613816319, 0.6346373625374326, 0.6361897439913164, 0.642000288103425, 0.6450837668890088, 0.6640521043497216, 0.6695524780506545, 0.6841653236637057, 0.6915699678084906, 0.7172315669273175, 0.7227735954821313, 0.7304462241432432, 0.731905758393502, 0.7558244385575463, 0.7920222729188495], \"yaxis\": \"y\"}],                        {\"legend\": {\"tracegroupgap\": 0}, \"template\": {\"data\": {\"bar\": [{\"error_x\": {\"color\": \"#2a3f5f\"}, \"error_y\": {\"color\": \"#2a3f5f\"}, \"marker\": {\"line\": {\"color\": \"#E5ECF6\", \"width\": 0.5}}, \"type\": \"bar\"}], \"barpolar\": [{\"marker\": {\"line\": {\"color\": \"#E5ECF6\", \"width\": 0.5}}, \"type\": \"barpolar\"}], \"carpet\": [{\"aaxis\": {\"endlinecolor\": \"#2a3f5f\", \"gridcolor\": \"white\", \"linecolor\": \"white\", \"minorgridcolor\": \"white\", \"startlinecolor\": \"#2a3f5f\"}, \"baxis\": {\"endlinecolor\": \"#2a3f5f\", \"gridcolor\": \"white\", \"linecolor\": \"white\", \"minorgridcolor\": \"white\", \"startlinecolor\": \"#2a3f5f\"}, \"type\": \"carpet\"}], \"choropleth\": [{\"colorbar\": {\"outlinewidth\": 0, \"ticks\": \"\"}, \"type\": \"choropleth\"}], \"contour\": [{\"colorbar\": {\"outlinewidth\": 0, \"ticks\": \"\"}, \"colorscale\": [[0.0, \"#0d0887\"], [0.1111111111111111, \"#46039f\"], [0.2222222222222222, \"#7201a8\"], [0.3333333333333333, \"#9c179e\"], [0.4444444444444444, \"#bd3786\"], [0.5555555555555556, \"#d8576b\"], [0.6666666666666666, \"#ed7953\"], [0.7777777777777778, \"#fb9f3a\"], [0.8888888888888888, \"#fdca26\"], [1.0, \"#f0f921\"]], \"type\": \"contour\"}], \"contourcarpet\": [{\"colorbar\": {\"outlinewidth\": 0, \"ticks\": \"\"}, \"type\": \"contourcarpet\"}], \"heatmap\": [{\"colorbar\": {\"outlinewidth\": 0, \"ticks\": \"\"}, \"colorscale\": [[0.0, \"#0d0887\"], [0.1111111111111111, \"#46039f\"], [0.2222222222222222, \"#7201a8\"], [0.3333333333333333, \"#9c179e\"], [0.4444444444444444, \"#bd3786\"], [0.5555555555555556, \"#d8576b\"], [0.6666666666666666, \"#ed7953\"], [0.7777777777777778, \"#fb9f3a\"], [0.8888888888888888, \"#fdca26\"], [1.0, \"#f0f921\"]], \"type\": \"heatmap\"}], \"heatmapgl\": [{\"colorbar\": {\"outlinewidth\": 0, \"ticks\": \"\"}, \"colorscale\": [[0.0, \"#0d0887\"], [0.1111111111111111, \"#46039f\"], [0.2222222222222222, \"#7201a8\"], [0.3333333333333333, \"#9c179e\"], [0.4444444444444444, \"#bd3786\"], [0.5555555555555556, \"#d8576b\"], [0.6666666666666666, \"#ed7953\"], [0.7777777777777778, \"#fb9f3a\"], [0.8888888888888888, \"#fdca26\"], [1.0, \"#f0f921\"]], \"type\": \"heatmapgl\"}], \"histogram\": [{\"marker\": {\"colorbar\": {\"outlinewidth\": 0, \"ticks\": \"\"}}, \"type\": \"histogram\"}], \"histogram2d\": [{\"colorbar\": {\"outlinewidth\": 0, \"ticks\": \"\"}, \"colorscale\": [[0.0, \"#0d0887\"], [0.1111111111111111, \"#46039f\"], [0.2222222222222222, \"#7201a8\"], [0.3333333333333333, \"#9c179e\"], [0.4444444444444444, \"#bd3786\"], [0.5555555555555556, \"#d8576b\"], [0.6666666666666666, \"#ed7953\"], [0.7777777777777778, \"#fb9f3a\"], [0.8888888888888888, \"#fdca26\"], [1.0, \"#f0f921\"]], \"type\": \"histogram2d\"}], \"histogram2dcontour\": [{\"colorbar\": {\"outlinewidth\": 0, \"ticks\": \"\"}, \"colorscale\": [[0.0, \"#0d0887\"], [0.1111111111111111, \"#46039f\"], [0.2222222222222222, \"#7201a8\"], [0.3333333333333333, \"#9c179e\"], [0.4444444444444444, \"#bd3786\"], [0.5555555555555556, \"#d8576b\"], [0.6666666666666666, \"#ed7953\"], [0.7777777777777778, \"#fb9f3a\"], [0.8888888888888888, \"#fdca26\"], [1.0, \"#f0f921\"]], \"type\": \"histogram2dcontour\"}], \"mesh3d\": [{\"colorbar\": {\"outlinewidth\": 0, \"ticks\": \"\"}, \"type\": \"mesh3d\"}], \"parcoords\": [{\"line\": {\"colorbar\": {\"outlinewidth\": 0, \"ticks\": \"\"}}, \"type\": \"parcoords\"}], \"pie\": [{\"automargin\": true, \"type\": \"pie\"}], \"scatter\": [{\"marker\": {\"colorbar\": {\"outlinewidth\": 0, \"ticks\": \"\"}}, \"type\": \"scatter\"}], \"scatter3d\": [{\"line\": {\"colorbar\": {\"outlinewidth\": 0, \"ticks\": \"\"}}, \"marker\": {\"colorbar\": {\"outlinewidth\": 0, \"ticks\": \"\"}}, \"type\": \"scatter3d\"}], \"scattercarpet\": [{\"marker\": {\"colorbar\": {\"outlinewidth\": 0, \"ticks\": \"\"}}, \"type\": \"scattercarpet\"}], \"scattergeo\": [{\"marker\": {\"colorbar\": {\"outlinewidth\": 0, \"ticks\": \"\"}}, \"type\": \"scattergeo\"}], \"scattergl\": [{\"marker\": {\"colorbar\": {\"outlinewidth\": 0, \"ticks\": \"\"}}, \"type\": \"scattergl\"}], \"scattermapbox\": [{\"marker\": {\"colorbar\": {\"outlinewidth\": 0, \"ticks\": \"\"}}, \"type\": \"scattermapbox\"}], \"scatterpolar\": [{\"marker\": {\"colorbar\": {\"outlinewidth\": 0, \"ticks\": \"\"}}, \"type\": \"scatterpolar\"}], \"scatterpolargl\": [{\"marker\": {\"colorbar\": {\"outlinewidth\": 0, \"ticks\": \"\"}}, \"type\": \"scatterpolargl\"}], \"scatterternary\": [{\"marker\": {\"colorbar\": {\"outlinewidth\": 0, \"ticks\": \"\"}}, \"type\": \"scatterternary\"}], \"surface\": [{\"colorbar\": {\"outlinewidth\": 0, \"ticks\": \"\"}, \"colorscale\": [[0.0, \"#0d0887\"], [0.1111111111111111, \"#46039f\"], [0.2222222222222222, \"#7201a8\"], [0.3333333333333333, \"#9c179e\"], [0.4444444444444444, \"#bd3786\"], [0.5555555555555556, \"#d8576b\"], [0.6666666666666666, \"#ed7953\"], [0.7777777777777778, \"#fb9f3a\"], [0.8888888888888888, \"#fdca26\"], [1.0, \"#f0f921\"]], \"type\": \"surface\"}], \"table\": [{\"cells\": {\"fill\": {\"color\": \"#EBF0F8\"}, \"line\": {\"color\": \"white\"}}, \"header\": {\"fill\": {\"color\": \"#C8D4E3\"}, \"line\": {\"color\": \"white\"}}, \"type\": \"table\"}]}, \"layout\": {\"annotationdefaults\": {\"arrowcolor\": \"#2a3f5f\", \"arrowhead\": 0, \"arrowwidth\": 1}, \"autotypenumbers\": \"strict\", \"coloraxis\": {\"colorbar\": {\"outlinewidth\": 0, \"ticks\": \"\"}}, \"colorscale\": {\"diverging\": [[0, \"#8e0152\"], [0.1, \"#c51b7d\"], [0.2, \"#de77ae\"], [0.3, \"#f1b6da\"], [0.4, \"#fde0ef\"], [0.5, \"#f7f7f7\"], [0.6, \"#e6f5d0\"], [0.7, \"#b8e186\"], [0.8, \"#7fbc41\"], [0.9, \"#4d9221\"], [1, \"#276419\"]], \"sequential\": [[0.0, \"#0d0887\"], [0.1111111111111111, \"#46039f\"], [0.2222222222222222, \"#7201a8\"], [0.3333333333333333, \"#9c179e\"], [0.4444444444444444, \"#bd3786\"], [0.5555555555555556, \"#d8576b\"], [0.6666666666666666, \"#ed7953\"], [0.7777777777777778, \"#fb9f3a\"], [0.8888888888888888, \"#fdca26\"], [1.0, \"#f0f921\"]], \"sequentialminus\": [[0.0, \"#0d0887\"], [0.1111111111111111, \"#46039f\"], [0.2222222222222222, \"#7201a8\"], [0.3333333333333333, \"#9c179e\"], [0.4444444444444444, \"#bd3786\"], [0.5555555555555556, \"#d8576b\"], [0.6666666666666666, \"#ed7953\"], [0.7777777777777778, \"#fb9f3a\"], [0.8888888888888888, \"#fdca26\"], [1.0, \"#f0f921\"]]}, \"colorway\": [\"#636efa\", \"#EF553B\", \"#00cc96\", \"#ab63fa\", \"#FFA15A\", \"#19d3f3\", \"#FF6692\", \"#B6E880\", \"#FF97FF\", \"#FECB52\"], \"font\": {\"color\": \"#2a3f5f\"}, \"geo\": {\"bgcolor\": \"white\", \"lakecolor\": \"white\", \"landcolor\": \"#E5ECF6\", \"showlakes\": true, \"showland\": true, \"subunitcolor\": \"white\"}, \"hoverlabel\": {\"align\": \"left\"}, \"hovermode\": \"closest\", \"mapbox\": {\"style\": \"light\"}, \"paper_bgcolor\": \"white\", \"plot_bgcolor\": \"#E5ECF6\", \"polar\": {\"angularaxis\": {\"gridcolor\": \"white\", \"linecolor\": \"white\", \"ticks\": \"\"}, \"bgcolor\": \"#E5ECF6\", \"radialaxis\": {\"gridcolor\": \"white\", \"linecolor\": \"white\", \"ticks\": \"\"}}, \"scene\": {\"xaxis\": {\"backgroundcolor\": \"#E5ECF6\", \"gridcolor\": \"white\", \"gridwidth\": 2, \"linecolor\": \"white\", \"showbackground\": true, \"ticks\": \"\", \"zerolinecolor\": \"white\"}, \"yaxis\": {\"backgroundcolor\": \"#E5ECF6\", \"gridcolor\": \"white\", \"gridwidth\": 2, \"linecolor\": \"white\", \"showbackground\": true, \"ticks\": \"\", \"zerolinecolor\": \"white\"}, \"zaxis\": {\"backgroundcolor\": \"#E5ECF6\", \"gridcolor\": \"white\", \"gridwidth\": 2, \"linecolor\": \"white\", \"showbackground\": true, \"ticks\": \"\", \"zerolinecolor\": \"white\"}}, \"shapedefaults\": {\"line\": {\"color\": \"#2a3f5f\"}}, \"ternary\": {\"aaxis\": {\"gridcolor\": \"white\", \"linecolor\": \"white\", \"ticks\": \"\"}, \"baxis\": {\"gridcolor\": \"white\", \"linecolor\": \"white\", \"ticks\": \"\"}, \"bgcolor\": \"#E5ECF6\", \"caxis\": {\"gridcolor\": \"white\", \"linecolor\": \"white\", \"ticks\": \"\"}}, \"title\": {\"x\": 0.05}, \"xaxis\": {\"automargin\": true, \"gridcolor\": \"white\", \"linecolor\": \"white\", \"ticks\": \"\", \"title\": {\"standoff\": 15}, \"zerolinecolor\": \"white\", \"zerolinewidth\": 2}, \"yaxis\": {\"automargin\": true, \"gridcolor\": \"white\", \"linecolor\": \"white\", \"ticks\": \"\", \"title\": {\"standoff\": 15}, \"zerolinecolor\": \"white\", \"zerolinewidth\": 2}}}, \"title\": {\"text\": \"Workout % position\"}, \"xaxis\": {\"anchor\": \"y\", \"domain\": [0.0, 1.0], \"title\": {\"text\": \"workout_date\"}}, \"yaxis\": {\"anchor\": \"x\", \"domain\": [0.0, 1.0], \"range\": [0, 1], \"title\": {\"text\": \"percentile\"}}},                        {\"responsive\": true}                    ).then(function(){\n",
       "                            \n",
       "var gd = document.getElementById('3cb47817-5ae0-4eec-837d-5d8e8dfb7ba5');\n",
       "var x = new MutationObserver(function (mutations, observer) {{\n",
       "        var display = window.getComputedStyle(gd).display;\n",
       "        if (!display || display === 'none') {{\n",
       "            console.log([gd, 'removed!']);\n",
       "            Plotly.purge(gd);\n",
       "            observer.disconnect();\n",
       "        }}\n",
       "}});\n",
       "\n",
       "// Listen for the removal of the full notebook cells\n",
       "var notebookContainer = gd.closest('#notebook-container');\n",
       "if (notebookContainer) {{\n",
       "    x.observe(notebookContainer, {childList: true});\n",
       "}}\n",
       "\n",
       "// Listen for the clearing of the current output cell\n",
       "var outputEl = gd.closest('.output');\n",
       "if (outputEl) {{\n",
       "    x.observe(outputEl, {childList: true});\n",
       "}}\n",
       "\n",
       "                        })                };                });            </script>        </div>"
      ]
     },
     "metadata": {},
     "output_type": "display_data"
    }
   ],
   "source": [
    "def plot_workout_percentile():\n",
    "    fig1 = px.scatter(df, x=\"workout_date\", \n",
    "                         y=\"percentile\", \n",
    "                         title='Workout % position',  \n",
    "                         trendline=\"ols\", \n",
    "                         trendline_color_override=\"red\",\n",
    "                    )\n",
    "    fig1.update_yaxes(range=[0, 1])\n",
    "    fig1.show()\n",
    "\n",
    "plot_workout_percentile()"
   ]
  },
  {
   "cell_type": "code",
   "execution_count": null,
   "metadata": {},
   "outputs": [],
   "source": []
  },
  {
   "cell_type": "code",
   "execution_count": null,
   "metadata": {},
   "outputs": [],
   "source": []
  }
 ],
 "metadata": {
  "kernelspec": {
   "display_name": "peloton",
   "language": "python",
   "name": "peloton"
  },
  "language_info": {
   "codemirror_mode": {
    "name": "ipython",
    "version": 3
   },
   "file_extension": ".py",
   "mimetype": "text/x-python",
   "name": "python",
   "nbconvert_exporter": "python",
   "pygments_lexer": "ipython3",
   "version": "3.7.3"
  }
 },
 "nbformat": 4,
 "nbformat_minor": 4
}
