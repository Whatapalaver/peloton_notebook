{
 "cells": [
  {
   "cell_type": "markdown",
   "metadata": {},
   "source": [
    "Allows the notebook to load your username and password from the .env file."
   ]
  },
  {
   "cell_type": "code",
   "execution_count": 34,
   "metadata": {},
   "outputs": [
    {
     "name": "stdout",
     "output_type": "stream",
     "text": [
      "The dotenv extension is already loaded. To reload it, use:\n",
      "  %reload_ext dotenv\n"
     ]
    }
   ],
   "source": [
    "%load_ext dotenv\n",
    "%dotenv"
   ]
  },
  {
   "cell_type": "markdown",
   "metadata": {},
   "source": [
    "### Import dependancies and connect to peloton.\n",
    "\n",
    "You should see a 200 status if it's connected successfully."
   ]
  },
  {
   "cell_type": "code",
   "execution_count": 35,
   "metadata": {},
   "outputs": [
    {
     "data": {
      "text/plain": [
       "<Response [200]>"
      ]
     },
     "execution_count": 35,
     "metadata": {},
     "output_type": "execute_result"
    }
   ],
   "source": [
    "import requests\n",
    "import pandas as pd\n",
    "import json\n",
    "import os\n",
    "import plotly.express as px\n",
    "from datetime import datetime\n",
    "\n",
    "s = requests.Session()\n",
    "payload = {'username_or_email': os.getenv(\"peloton-username\"), 'password': os.getenv(\"peloton-password\")}\n",
    "s.post('https://api.onepeloton.com/auth/login', json=payload)"
   ]
  },
  {
   "cell_type": "markdown",
   "metadata": {},
   "source": [
    "## Load user data from api"
   ]
  },
  {
   "cell_type": "code",
   "execution_count": 36,
   "metadata": {},
   "outputs": [
    {
     "name": "stdout",
     "output_type": "stream",
     "text": [
      "{\n",
      "    \"email\": \"james_wooltorton@hotmail.com\",\n",
      "    \"referrals_made\": 0,\n",
      "    \"facebook_id\": null,\n",
      "    \"can_charge\": true,\n",
      "    \"created_at\": 1589042180,\n",
      "    \"name\": \"Jamie Wooltorton\",\n",
      "    \"weight\": 231.49,\n",
      "    \"cycling_workout_ftp\": 0,\n",
      "    \"is_profile_private\": false,\n",
      "    \"is_provisional\": false,\n",
      "    \"instructor_id\": null,\n",
      "    \"total_pending_followers\": 0,\n",
      "    \"phone_number\": \"7752332161\",\n",
      "    \"is_complete_profile\": true,\n",
      "    \"has_active_digital_subscription\": false,\n",
      "    \"member_groups\": [],\n",
      "    \"last_workout_at\": 1601483700,\n",
      "    \"quick_hits\": {\n",
      "        \"quick_hits_enabled\": true,\n",
      "        \"speed_shortcuts\": null,\n",
      "        \"incline_shortcuts\": null\n",
      "    },\n",
      "    \"total_workouts\": 64,\n",
      "    \"is_demo\": false,\n",
      "    \"cycling_ftp_source\": null,\n",
      "    \"total_following\": 0,\n",
      "    \"default_heart_rate_zones\": [\n",
      "        0,\n",
      "        113.75,\n",
      "        131.25,\n",
      "        148.75,\n",
      "        166.25\n",
      "    ],\n",
      "    \"is_strava_authenticated\": true,\n",
      "    \"paired_devices\": [\n",
      "        {\n",
      "            \"name\": \"AKG N60NC Wireless\",\n",
      "            \"paired_device_type\": \"audio\",\n",
      "            \"serial_number\": \"34:DF:2A:5E:50:0D\"\n",
      "        },\n",
      "        {\n",
      "            \"name\": \"RHYTHM+3183656\",\n",
      "            \"paired_device_type\": \"heart_rate_monitor\",\n",
      "            \"serial_number\": \"F9:FD:B8:7F:B5:F9\"\n",
      "        }\n",
      "    ],\n",
      "    \"subscription_credits\": 0,\n",
      "    \"image_url\": \"https://s3.amazonaws.com/peloton-profile-images/56539e099ac900b4ef669e1e4922a0fc09e3079a/c42f1bddb1af45e98bff0bb88031c91f\",\n",
      "    \"has_signed_waiver\": false,\n",
      "    \"default_max_heart_rate\": 175,\n",
      "    \"username\": \"SqueakyCheese\",\n",
      "    \"is_internal_beta_tester\": false,\n",
      "    \"is_fitbit_authenticated\": false,\n",
      "    \"v1_referrals_made\": 0,\n",
      "    \"external_music_auth_list\": [\n",
      "        {\n",
      "            \"provider\": \"apple_music\",\n",
      "            \"status\": \"disconnected\",\n",
      "            \"email\": null\n",
      "        },\n",
      "        {\n",
      "            \"provider\": \"spotify\",\n",
      "            \"status\": \"connected\",\n",
      "            \"email\": \"james_wooltorton@hotmail.com\"\n",
      "        }\n",
      "    ],\n",
      "    \"has_active_device_subscription\": true,\n",
      "    \"first_name\": \"Jamie\",\n",
      "    \"total_followers\": 3,\n",
      "    \"id\": \"39cb085b05254d63a689a1c4324c65f8\",\n",
      "    \"block_explicit\": false,\n",
      "    \"total_non_pedaling_metric_workouts\": 25,\n",
      "    \"cycling_ftp_workout_id\": null,\n",
      "    \"customized_max_heart_rate\": 0,\n",
      "    \"estimated_cycling_ftp\": 214,\n",
      "    \"is_external_beta_tester\": false,\n",
      "    \"birthday\": 158457600,\n",
      "    \"location\": \"Edinburgh\",\n",
      "    \"subscription_credits_used\": 0,\n",
      "    \"customized_heart_rate_zones\": [],\n",
      "    \"gender\": \"male\",\n",
      "    \"obfuscated_email\": \"db28b4d6bc29edcb1dc4d324c82db38e9c62619d2a87b9bc4974b96352bb7b7f\",\n",
      "    \"facebook_access_token\": null,\n",
      "    \"height\": 66.0,\n",
      "    \"workout_counts\": [\n",
      "        {\n",
      "            \"name\": \"Running\",\n",
      "            \"slug\": \"running\",\n",
      "            \"count\": 0,\n",
      "            \"icon_url\": \"https://s3.amazonaws.com/static-cdn.pelotoncycle.com/workout-count-icons/zero-running2.png\"\n",
      "        },\n",
      "        {\n",
      "            \"name\": \"Cycling\",\n",
      "            \"slug\": \"cycling\",\n",
      "            \"count\": 39,\n",
      "            \"icon_url\": \"https://s3.amazonaws.com/static-cdn.pelotoncycle.com/workout-count-icons/nonzero-cycling2.png\"\n",
      "        },\n",
      "        {\n",
      "            \"name\": \"Strength\",\n",
      "            \"slug\": \"strength\",\n",
      "            \"count\": 0,\n",
      "            \"icon_url\": \"https://s3.amazonaws.com/static-cdn.pelotoncycle.com/workout-count-icons/zero-strength2.png\"\n",
      "        },\n",
      "        {\n",
      "            \"name\": \"Yoga\",\n",
      "            \"slug\": \"yoga\",\n",
      "            \"count\": 0,\n",
      "            \"icon_url\": \"https://s3.amazonaws.com/static-cdn.pelotoncycle.com/workout-count-icons/zero-yoga2.png\"\n",
      "        },\n",
      "        {\n",
      "            \"name\": \"Cardio\",\n",
      "            \"slug\": \"cardio\",\n",
      "            \"count\": 0,\n",
      "            \"icon_url\": \"https://s3.amazonaws.com/static-cdn.pelotoncycle.com/workout-count-icons/zero-cardio2.png\"\n",
      "        },\n",
      "        {\n",
      "            \"name\": \"Stretching\",\n",
      "            \"slug\": \"stretching\",\n",
      "            \"count\": 0,\n",
      "            \"icon_url\": \"https://s3.amazonaws.com/static-cdn.pelotoncycle.com/workout-count-icons/zero-stretching2.png\"\n",
      "        },\n",
      "        {\n",
      "            \"name\": \"Walking\",\n",
      "            \"slug\": \"walking\",\n",
      "            \"count\": 0,\n",
      "            \"icon_url\": \"https://s3.amazonaws.com/static-cdn.pelotoncycle.com/workout-count-icons/zero-walking2.png\"\n",
      "        },\n",
      "        {\n",
      "            \"name\": \"Bootcamp\",\n",
      "            \"slug\": \"circuit\",\n",
      "            \"count\": 0,\n",
      "            \"icon_url\": \"https://s3.amazonaws.com/static-cdn.pelotoncycle.com/workout-count-icons/zero-circuit2.png\"\n",
      "        },\n",
      "        {\n",
      "            \"name\": \"Meditation\",\n",
      "            \"slug\": \"meditation\",\n",
      "            \"count\": 25,\n",
      "            \"icon_url\": \"https://s3.amazonaws.com/static-cdn.pelotoncycle.com/workout-count-icons/nonzero-meditation2.png\"\n",
      "        }\n",
      "    ],\n",
      "    \"cycling_ftp\": 0,\n",
      "    \"created_country\": \"GB\",\n",
      "    \"referral_code\": null,\n",
      "    \"contract_agreements\": [\n",
      "        {\n",
      "            \"contract_type\": \"privacy_policy\",\n",
      "            \"contract_id\": \"d871f217649448eaa39da99d99360d6e\",\n",
      "            \"contract_created_at\": 1600101599,\n",
      "            \"bike_contract_url\": \"https://s3.us-east-2.amazonaws.com/contract-terms-html/prod/en-gb/privacy_1600101598.html\",\n",
      "            \"tread_contract_url\": \"https://s3.us-east-2.amazonaws.com/contract-terms-html/prod/en-gb/privacy_1600101598.html\",\n",
      "            \"agreed_at\": 1591638613,\n",
      "            \"contract_display_name\": \"Privacy Policy\"\n",
      "        },\n",
      "        {\n",
      "            \"contract_type\": \"subscription_terms\",\n",
      "            \"contract_id\": \"c3117e21130241e18a747edab068d36a\",\n",
      "            \"contract_created_at\": 1590094767,\n",
      "            \"bike_contract_url\": \"https://s3.us-east-2.amazonaws.com/contract-terms-html/prod/en-gb/subscription_tos_1590094767.html\",\n",
      "            \"tread_contract_url\": \"https://s3.us-east-2.amazonaws.com/contract-terms-html/prod/en-gb/subscription_tos_1590094767.html\",\n",
      "            \"agreed_at\": 1591638613,\n",
      "            \"contract_display_name\": \"Membership Terms\"\n",
      "        },\n",
      "        {\n",
      "            \"contract_type\": \"terms_of_service\",\n",
      "            \"contract_id\": \"7ef6d430b0ed49b38cf1dceb02878170\",\n",
      "            \"contract_created_at\": 1600103607,\n",
      "            \"bike_contract_url\": \"https://s3.us-east-2.amazonaws.com/contract-terms-html/prod/en-gb/tos_1600103607.html\",\n",
      "            \"tread_contract_url\": \"https://s3.us-east-2.amazonaws.com/contract-terms-html/prod/en-gb/tos_1600103607.html\",\n",
      "            \"agreed_at\": 1589042180,\n",
      "            \"contract_display_name\": \"Terms of Service\"\n",
      "        }\n",
      "    ],\n",
      "    \"last_name\": \"Wooltorton\",\n",
      "    \"total_pedaling_metric_workouts\": 39,\n",
      "    \"middle_initial\": \"\",\n",
      "    \"hardware_settings\": null\n",
      "}\n"
     ]
    }
   ],
   "source": [
    "url = 'https://api.onepeloton.com/api/me'\n",
    "# getting data from source\n",
    "data = s.get(url).json()\n",
    "\n",
    "pretty_data = json.dumps(data, indent=4)\n",
    "\n",
    "print(pretty_data)"
   ]
  },
  {
   "cell_type": "markdown",
   "metadata": {},
   "source": [
    "Show your peloton_id."
   ]
  },
  {
   "cell_type": "code",
   "execution_count": 37,
   "metadata": {},
   "outputs": [
    {
     "name": "stdout",
     "output_type": "stream",
     "text": [
      "39cb085b05254d63a689a1c4324c65f8\n"
     ]
    }
   ],
   "source": [
    "peloton_id = data['id']\n",
    "print(peloton_id)"
   ]
  },
  {
   "cell_type": "markdown",
   "metadata": {},
   "source": [
    "Build the core DataFrame from workoutdata."
   ]
  },
  {
   "cell_type": "code",
   "execution_count": 38,
   "metadata": {},
   "outputs": [],
   "source": [
    "df = pd.DataFrame(columns=[\"percentile\", \n",
    "                            \"workout_date\", \n",
    "                            \"difficulty_rating_avg\", \n",
    "                            \"duration_mins\", \n",
    "                            \"class_length\",\n",
    "                            \"total_work\"])\n",
    "\n",
    "races = 50\n",
    "\n",
    "\n",
    "def get_workout(workout_id: str):\n",
    "    url = 'https://api.onepeloton.com/api/workout/' + workout_id\n",
    "    # getting data from source\n",
    "    data = s.get(url).json()\n",
    "    \n",
    "    leaderboard_rank = data['leaderboard_rank']\n",
    "    total_leaderboard_users= data['total_leaderboard_users']\n",
    "    avg_pos = (leaderboard_rank / total_leaderboard_users)\n",
    "    timestamp = datetime.fromtimestamp(data['created_at'])\n",
    "    difficulty_rating_avg = data['ride']['difficulty_rating_avg']\n",
    "    pdd = (data['ride']['pedaling_duration'] / 60)\n",
    "    total_work = data['total_work']/ 1000\n",
    "    new_row = pd.Series({\"percentile\": avg_pos, \n",
    "                         \"workout_date\": timestamp, \n",
    "                         \"difficulty_rating_avg\": difficulty_rating_avg, \n",
    "                         \"duration_mins\": pdd, \n",
    "                         \"class_length\": '{0} mins'.format(int(pdd)),\n",
    "                         \"total_work\": total_work})\n",
    "    global df\n",
    "    df = df.append(new_row, ignore_index=True)\n",
    "\n",
    "\n",
    "def get_session_data(session_type: str):\n",
    "    for w in get_data.json()['data']:\n",
    "        if w['ride']['difficulty_level'] !=  \"beginner\":\n",
    "            if w['fitness_discipline'] == session_type:\n",
    "                get_workout(w['id'])\n",
    " \n",
    "\n",
    "url = 'https://api.onepeloton.com/api/user/{0}/workouts/?joins=ride,ride.instructor&limit={1}&page=0'.format(peloton_id, races)\n",
    "# getting data from source\n",
    "get_data = s.get(url)\n",
    "get_session_data('cycling')\n",
    "\n",
    "\n",
    "df['workout_date'] = pd.to_datetime(df['workout_date'])"
   ]
  },
  {
   "cell_type": "code",
   "execution_count": 39,
   "metadata": {},
   "outputs": [
    {
     "name": "stdout",
     "output_type": "stream",
     "text": [
      "   percentile        workout_date  difficulty_rating_avg  duration_mins  \\\n",
      "0    0.717616 2020-09-30 17:35:00                 8.2566           45.0   \n",
      "1    0.462977 2020-09-28 17:19:12                 8.1941           30.0   \n",
      "2    0.604837 2020-09-25 17:04:33                 9.0351           30.0   \n",
      "3    0.588778 2020-09-23 17:50:28                 8.5495           30.0   \n",
      "4    0.377758 2020-09-21 17:19:49                 8.1728           20.0   \n",
      "\n",
      "  class_length  total_work  \n",
      "0      45 mins   280.87232  \n",
      "1      30 mins   234.16660  \n",
      "2      30 mins   234.72809  \n",
      "3      30 mins   215.25122  \n",
      "4      20 mins   162.37018  \n"
     ]
    }
   ],
   "source": [
    "print(df.head())"
   ]
  },
  {
   "cell_type": "markdown",
   "metadata": {},
   "source": [
    "## Build a scatter plot"
   ]
  },
  {
   "cell_type": "code",
   "execution_count": 40,
   "metadata": {},
   "outputs": [
    {
     "data": {
      "application/vnd.plotly.v1+json": {
       "config": {
        "plotlyServerURL": "https://plot.ly"
       },
       "data": [
        {
         "hovertemplate": "workout_date=%{x}<br>percentile=%{y}<extra></extra>",
         "legendgroup": "",
         "marker": {
          "color": "#636efa",
          "symbol": "circle"
         },
         "mode": "markers",
         "name": "",
         "orientation": "v",
         "showlegend": false,
         "type": "scatter",
         "x": [
          "2020-09-30T17:35:00",
          "2020-09-28T17:19:12",
          "2020-09-25T17:04:33",
          "2020-09-23T17:50:28",
          "2020-09-21T17:19:49",
          "2020-09-04T17:50:05",
          "2020-09-03T12:40:47",
          "2020-09-02T12:08:41",
          "2020-08-31T11:51:13",
          "2020-08-27T17:35:31",
          "2020-08-26T12:37:05",
          "2020-08-24T12:24:57",
          "2020-08-23T09:25:52",
          "2020-08-18T12:17:53",
          "2020-08-17T10:56:32",
          "2020-08-14T12:39:26",
          "2020-08-12T13:25:21",
          "2020-08-09T18:15:32",
          "2020-08-06T18:35:45",
          "2020-08-04T17:34:12",
          "2020-07-10T17:28:29",
          "2020-07-08T17:36:04",
          "2020-07-06T18:29:53",
          "2020-07-04T19:52:43",
          "2020-07-02T17:09:37",
          "2020-06-30T17:33:12",
          "2020-06-28T17:30:40",
          "2020-06-26T18:15:40",
          "2020-06-23T17:40:01",
          "2020-06-21T10:36:30",
          "2020-06-18T17:28:08"
         ],
         "xaxis": "x",
         "y": [
          0.7176155903706534,
          0.4629774119299341,
          0.6048365462001303,
          0.5887783932901733,
          0.3777577086827506,
          0.5771797153024911,
          0.5748710679494526,
          0.5461393596986818,
          0.5123548868279395,
          0.6714870774427913,
          0.5992576663622706,
          0.7039012273524254,
          0.6719189645469893,
          0.4827728776185226,
          0.4355263157894737,
          0.5918121323174849,
          0.4355561518851469,
          0.5951245363010069,
          0.8037405923540645,
          0.6825768667642752,
          0.699038113253109,
          0.6423992383370358,
          0.44487932159165033,
          0.910454823804487,
          0.6795066028845121,
          0.5267717725280814,
          0.5944351787820852,
          0.699871088714403,
          0.6694935162563428,
          0.7078491776108379,
          0.8959156264812767
         ],
         "yaxis": "y"
        },
        {
         "hovertemplate": "<b>OLS trendline</b><br>percentile = -1.84195e-08 * workout_date + 30.0305<br>R<sup>2</sup>=0.175174<br><br>workout_date=%{x}<br>percentile=%{y} <b>(trend)</b><extra></extra>",
         "legendgroup": "",
         "line": {
          "color": "red"
         },
         "marker": {
          "color": "#636efa",
          "symbol": "circle"
         },
         "mode": "lines",
         "name": "",
         "showlegend": false,
         "type": "scatter",
         "x": [
          "2020-06-18T17:28:08",
          "2020-06-21T10:36:30",
          "2020-06-23T17:40:01",
          "2020-06-26T18:15:40",
          "2020-06-28T17:30:40",
          "2020-06-30T17:33:12",
          "2020-07-02T17:09:37",
          "2020-07-04T19:52:43",
          "2020-07-06T18:29:53",
          "2020-07-08T17:36:04",
          "2020-07-10T17:28:29",
          "2020-08-04T17:34:12",
          "2020-08-06T18:35:45",
          "2020-08-09T18:15:32",
          "2020-08-12T13:25:21",
          "2020-08-14T12:39:26",
          "2020-08-17T10:56:32",
          "2020-08-18T12:17:53",
          "2020-08-23T09:25:52",
          "2020-08-24T12:24:57",
          "2020-08-26T12:37:05",
          "2020-08-27T17:35:31",
          "2020-08-31T11:51:13",
          "2020-09-02T12:08:41",
          "2020-09-03T12:40:47",
          "2020-09-04T17:50:05",
          "2020-09-21T17:19:49",
          "2020-09-23T17:50:28",
          "2020-09-25T17:04:33",
          "2020-09-28T17:19:12",
          "2020-09-30T17:35:00"
         ],
         "xaxis": "x",
         "y": [
          0.697498315548092,
          0.6931789100847325,
          0.6895279660573976,
          0.6847142369446892,
          0.681581082987293,
          0.6783953966660725,
          0.6752385736737843,
          0.6718754340590571,
          0.6687840923267245,
          0.6656606822755222,
          0.6624861765801242,
          0.6226937766989806,
          0.6194428669905605,
          0.6146908799828772,
          0.6102372517512222,
          0.6071051108653585,
          0.602444502909897,
          0.6007631541363203,
          0.5929960452145053,
          0.5912066845960986,
          0.5880103886530108,
          0.5860891261210881,
          0.5801038626688602,
          0.5769016724914025,
          0.5752747532883404,
          0.5733414812538875,
          0.5463203952748401,
          0.5431036352867977,
          0.539971494400934,
          0.5351809738360593,
          0.5319806256068418
         ],
         "yaxis": "y"
        }
       ],
       "layout": {
        "legend": {
         "tracegroupgap": 0
        },
        "template": {
         "data": {
          "bar": [
           {
            "error_x": {
             "color": "#2a3f5f"
            },
            "error_y": {
             "color": "#2a3f5f"
            },
            "marker": {
             "line": {
              "color": "#E5ECF6",
              "width": 0.5
             }
            },
            "type": "bar"
           }
          ],
          "barpolar": [
           {
            "marker": {
             "line": {
              "color": "#E5ECF6",
              "width": 0.5
             }
            },
            "type": "barpolar"
           }
          ],
          "carpet": [
           {
            "aaxis": {
             "endlinecolor": "#2a3f5f",
             "gridcolor": "white",
             "linecolor": "white",
             "minorgridcolor": "white",
             "startlinecolor": "#2a3f5f"
            },
            "baxis": {
             "endlinecolor": "#2a3f5f",
             "gridcolor": "white",
             "linecolor": "white",
             "minorgridcolor": "white",
             "startlinecolor": "#2a3f5f"
            },
            "type": "carpet"
           }
          ],
          "choropleth": [
           {
            "colorbar": {
             "outlinewidth": 0,
             "ticks": ""
            },
            "type": "choropleth"
           }
          ],
          "contour": [
           {
            "colorbar": {
             "outlinewidth": 0,
             "ticks": ""
            },
            "colorscale": [
             [
              0,
              "#0d0887"
             ],
             [
              0.1111111111111111,
              "#46039f"
             ],
             [
              0.2222222222222222,
              "#7201a8"
             ],
             [
              0.3333333333333333,
              "#9c179e"
             ],
             [
              0.4444444444444444,
              "#bd3786"
             ],
             [
              0.5555555555555556,
              "#d8576b"
             ],
             [
              0.6666666666666666,
              "#ed7953"
             ],
             [
              0.7777777777777778,
              "#fb9f3a"
             ],
             [
              0.8888888888888888,
              "#fdca26"
             ],
             [
              1,
              "#f0f921"
             ]
            ],
            "type": "contour"
           }
          ],
          "contourcarpet": [
           {
            "colorbar": {
             "outlinewidth": 0,
             "ticks": ""
            },
            "type": "contourcarpet"
           }
          ],
          "heatmap": [
           {
            "colorbar": {
             "outlinewidth": 0,
             "ticks": ""
            },
            "colorscale": [
             [
              0,
              "#0d0887"
             ],
             [
              0.1111111111111111,
              "#46039f"
             ],
             [
              0.2222222222222222,
              "#7201a8"
             ],
             [
              0.3333333333333333,
              "#9c179e"
             ],
             [
              0.4444444444444444,
              "#bd3786"
             ],
             [
              0.5555555555555556,
              "#d8576b"
             ],
             [
              0.6666666666666666,
              "#ed7953"
             ],
             [
              0.7777777777777778,
              "#fb9f3a"
             ],
             [
              0.8888888888888888,
              "#fdca26"
             ],
             [
              1,
              "#f0f921"
             ]
            ],
            "type": "heatmap"
           }
          ],
          "heatmapgl": [
           {
            "colorbar": {
             "outlinewidth": 0,
             "ticks": ""
            },
            "colorscale": [
             [
              0,
              "#0d0887"
             ],
             [
              0.1111111111111111,
              "#46039f"
             ],
             [
              0.2222222222222222,
              "#7201a8"
             ],
             [
              0.3333333333333333,
              "#9c179e"
             ],
             [
              0.4444444444444444,
              "#bd3786"
             ],
             [
              0.5555555555555556,
              "#d8576b"
             ],
             [
              0.6666666666666666,
              "#ed7953"
             ],
             [
              0.7777777777777778,
              "#fb9f3a"
             ],
             [
              0.8888888888888888,
              "#fdca26"
             ],
             [
              1,
              "#f0f921"
             ]
            ],
            "type": "heatmapgl"
           }
          ],
          "histogram": [
           {
            "marker": {
             "colorbar": {
              "outlinewidth": 0,
              "ticks": ""
             }
            },
            "type": "histogram"
           }
          ],
          "histogram2d": [
           {
            "colorbar": {
             "outlinewidth": 0,
             "ticks": ""
            },
            "colorscale": [
             [
              0,
              "#0d0887"
             ],
             [
              0.1111111111111111,
              "#46039f"
             ],
             [
              0.2222222222222222,
              "#7201a8"
             ],
             [
              0.3333333333333333,
              "#9c179e"
             ],
             [
              0.4444444444444444,
              "#bd3786"
             ],
             [
              0.5555555555555556,
              "#d8576b"
             ],
             [
              0.6666666666666666,
              "#ed7953"
             ],
             [
              0.7777777777777778,
              "#fb9f3a"
             ],
             [
              0.8888888888888888,
              "#fdca26"
             ],
             [
              1,
              "#f0f921"
             ]
            ],
            "type": "histogram2d"
           }
          ],
          "histogram2dcontour": [
           {
            "colorbar": {
             "outlinewidth": 0,
             "ticks": ""
            },
            "colorscale": [
             [
              0,
              "#0d0887"
             ],
             [
              0.1111111111111111,
              "#46039f"
             ],
             [
              0.2222222222222222,
              "#7201a8"
             ],
             [
              0.3333333333333333,
              "#9c179e"
             ],
             [
              0.4444444444444444,
              "#bd3786"
             ],
             [
              0.5555555555555556,
              "#d8576b"
             ],
             [
              0.6666666666666666,
              "#ed7953"
             ],
             [
              0.7777777777777778,
              "#fb9f3a"
             ],
             [
              0.8888888888888888,
              "#fdca26"
             ],
             [
              1,
              "#f0f921"
             ]
            ],
            "type": "histogram2dcontour"
           }
          ],
          "mesh3d": [
           {
            "colorbar": {
             "outlinewidth": 0,
             "ticks": ""
            },
            "type": "mesh3d"
           }
          ],
          "parcoords": [
           {
            "line": {
             "colorbar": {
              "outlinewidth": 0,
              "ticks": ""
             }
            },
            "type": "parcoords"
           }
          ],
          "pie": [
           {
            "automargin": true,
            "type": "pie"
           }
          ],
          "scatter": [
           {
            "marker": {
             "colorbar": {
              "outlinewidth": 0,
              "ticks": ""
             }
            },
            "type": "scatter"
           }
          ],
          "scatter3d": [
           {
            "line": {
             "colorbar": {
              "outlinewidth": 0,
              "ticks": ""
             }
            },
            "marker": {
             "colorbar": {
              "outlinewidth": 0,
              "ticks": ""
             }
            },
            "type": "scatter3d"
           }
          ],
          "scattercarpet": [
           {
            "marker": {
             "colorbar": {
              "outlinewidth": 0,
              "ticks": ""
             }
            },
            "type": "scattercarpet"
           }
          ],
          "scattergeo": [
           {
            "marker": {
             "colorbar": {
              "outlinewidth": 0,
              "ticks": ""
             }
            },
            "type": "scattergeo"
           }
          ],
          "scattergl": [
           {
            "marker": {
             "colorbar": {
              "outlinewidth": 0,
              "ticks": ""
             }
            },
            "type": "scattergl"
           }
          ],
          "scattermapbox": [
           {
            "marker": {
             "colorbar": {
              "outlinewidth": 0,
              "ticks": ""
             }
            },
            "type": "scattermapbox"
           }
          ],
          "scatterpolar": [
           {
            "marker": {
             "colorbar": {
              "outlinewidth": 0,
              "ticks": ""
             }
            },
            "type": "scatterpolar"
           }
          ],
          "scatterpolargl": [
           {
            "marker": {
             "colorbar": {
              "outlinewidth": 0,
              "ticks": ""
             }
            },
            "type": "scatterpolargl"
           }
          ],
          "scatterternary": [
           {
            "marker": {
             "colorbar": {
              "outlinewidth": 0,
              "ticks": ""
             }
            },
            "type": "scatterternary"
           }
          ],
          "surface": [
           {
            "colorbar": {
             "outlinewidth": 0,
             "ticks": ""
            },
            "colorscale": [
             [
              0,
              "#0d0887"
             ],
             [
              0.1111111111111111,
              "#46039f"
             ],
             [
              0.2222222222222222,
              "#7201a8"
             ],
             [
              0.3333333333333333,
              "#9c179e"
             ],
             [
              0.4444444444444444,
              "#bd3786"
             ],
             [
              0.5555555555555556,
              "#d8576b"
             ],
             [
              0.6666666666666666,
              "#ed7953"
             ],
             [
              0.7777777777777778,
              "#fb9f3a"
             ],
             [
              0.8888888888888888,
              "#fdca26"
             ],
             [
              1,
              "#f0f921"
             ]
            ],
            "type": "surface"
           }
          ],
          "table": [
           {
            "cells": {
             "fill": {
              "color": "#EBF0F8"
             },
             "line": {
              "color": "white"
             }
            },
            "header": {
             "fill": {
              "color": "#C8D4E3"
             },
             "line": {
              "color": "white"
             }
            },
            "type": "table"
           }
          ]
         },
         "layout": {
          "annotationdefaults": {
           "arrowcolor": "#2a3f5f",
           "arrowhead": 0,
           "arrowwidth": 1
          },
          "coloraxis": {
           "colorbar": {
            "outlinewidth": 0,
            "ticks": ""
           }
          },
          "colorscale": {
           "diverging": [
            [
             0,
             "#8e0152"
            ],
            [
             0.1,
             "#c51b7d"
            ],
            [
             0.2,
             "#de77ae"
            ],
            [
             0.3,
             "#f1b6da"
            ],
            [
             0.4,
             "#fde0ef"
            ],
            [
             0.5,
             "#f7f7f7"
            ],
            [
             0.6,
             "#e6f5d0"
            ],
            [
             0.7,
             "#b8e186"
            ],
            [
             0.8,
             "#7fbc41"
            ],
            [
             0.9,
             "#4d9221"
            ],
            [
             1,
             "#276419"
            ]
           ],
           "sequential": [
            [
             0,
             "#0d0887"
            ],
            [
             0.1111111111111111,
             "#46039f"
            ],
            [
             0.2222222222222222,
             "#7201a8"
            ],
            [
             0.3333333333333333,
             "#9c179e"
            ],
            [
             0.4444444444444444,
             "#bd3786"
            ],
            [
             0.5555555555555556,
             "#d8576b"
            ],
            [
             0.6666666666666666,
             "#ed7953"
            ],
            [
             0.7777777777777778,
             "#fb9f3a"
            ],
            [
             0.8888888888888888,
             "#fdca26"
            ],
            [
             1,
             "#f0f921"
            ]
           ],
           "sequentialminus": [
            [
             0,
             "#0d0887"
            ],
            [
             0.1111111111111111,
             "#46039f"
            ],
            [
             0.2222222222222222,
             "#7201a8"
            ],
            [
             0.3333333333333333,
             "#9c179e"
            ],
            [
             0.4444444444444444,
             "#bd3786"
            ],
            [
             0.5555555555555556,
             "#d8576b"
            ],
            [
             0.6666666666666666,
             "#ed7953"
            ],
            [
             0.7777777777777778,
             "#fb9f3a"
            ],
            [
             0.8888888888888888,
             "#fdca26"
            ],
            [
             1,
             "#f0f921"
            ]
           ]
          },
          "colorway": [
           "#636efa",
           "#EF553B",
           "#00cc96",
           "#ab63fa",
           "#FFA15A",
           "#19d3f3",
           "#FF6692",
           "#B6E880",
           "#FF97FF",
           "#FECB52"
          ],
          "font": {
           "color": "#2a3f5f"
          },
          "geo": {
           "bgcolor": "white",
           "lakecolor": "white",
           "landcolor": "#E5ECF6",
           "showlakes": true,
           "showland": true,
           "subunitcolor": "white"
          },
          "hoverlabel": {
           "align": "left"
          },
          "hovermode": "closest",
          "mapbox": {
           "style": "light"
          },
          "paper_bgcolor": "white",
          "plot_bgcolor": "#E5ECF6",
          "polar": {
           "angularaxis": {
            "gridcolor": "white",
            "linecolor": "white",
            "ticks": ""
           },
           "bgcolor": "#E5ECF6",
           "radialaxis": {
            "gridcolor": "white",
            "linecolor": "white",
            "ticks": ""
           }
          },
          "scene": {
           "xaxis": {
            "backgroundcolor": "#E5ECF6",
            "gridcolor": "white",
            "gridwidth": 2,
            "linecolor": "white",
            "showbackground": true,
            "ticks": "",
            "zerolinecolor": "white"
           },
           "yaxis": {
            "backgroundcolor": "#E5ECF6",
            "gridcolor": "white",
            "gridwidth": 2,
            "linecolor": "white",
            "showbackground": true,
            "ticks": "",
            "zerolinecolor": "white"
           },
           "zaxis": {
            "backgroundcolor": "#E5ECF6",
            "gridcolor": "white",
            "gridwidth": 2,
            "linecolor": "white",
            "showbackground": true,
            "ticks": "",
            "zerolinecolor": "white"
           }
          },
          "shapedefaults": {
           "line": {
            "color": "#2a3f5f"
           }
          },
          "ternary": {
           "aaxis": {
            "gridcolor": "white",
            "linecolor": "white",
            "ticks": ""
           },
           "baxis": {
            "gridcolor": "white",
            "linecolor": "white",
            "ticks": ""
           },
           "bgcolor": "#E5ECF6",
           "caxis": {
            "gridcolor": "white",
            "linecolor": "white",
            "ticks": ""
           }
          },
          "title": {
           "x": 0.05
          },
          "xaxis": {
           "automargin": true,
           "gridcolor": "white",
           "linecolor": "white",
           "ticks": "",
           "title": {
            "standoff": 15
           },
           "zerolinecolor": "white",
           "zerolinewidth": 2
          },
          "yaxis": {
           "automargin": true,
           "gridcolor": "white",
           "linecolor": "white",
           "ticks": "",
           "title": {
            "standoff": 15
           },
           "zerolinecolor": "white",
           "zerolinewidth": 2
          }
         }
        },
        "title": {
         "text": "Workout % position"
        },
        "xaxis": {
         "anchor": "y",
         "domain": [
          0,
          1
         ],
         "title": {
          "text": "workout_date"
         }
        },
        "yaxis": {
         "anchor": "x",
         "domain": [
          0,
          1
         ],
         "range": [
          0,
          1
         ],
         "title": {
          "text": "percentile"
         }
        }
       }
      },
      "text/html": [
       "<div>                            <div id=\"bf5ff611-3a82-4802-9a3a-c8b16dc5483e\" class=\"plotly-graph-div\" style=\"height:525px; width:100%;\"></div>            <script type=\"text/javascript\">                require([\"plotly\"], function(Plotly) {                    window.PLOTLYENV=window.PLOTLYENV || {};                                    if (document.getElementById(\"bf5ff611-3a82-4802-9a3a-c8b16dc5483e\")) {                    Plotly.newPlot(                        \"bf5ff611-3a82-4802-9a3a-c8b16dc5483e\",                        [{\"hovertemplate\": \"workout_date=%{x}<br>percentile=%{y}<extra></extra>\", \"legendgroup\": \"\", \"marker\": {\"color\": \"#636efa\", \"symbol\": \"circle\"}, \"mode\": \"markers\", \"name\": \"\", \"orientation\": \"v\", \"showlegend\": false, \"type\": \"scatter\", \"x\": [\"2020-09-30T17:35:00\", \"2020-09-28T17:19:12\", \"2020-09-25T17:04:33\", \"2020-09-23T17:50:28\", \"2020-09-21T17:19:49\", \"2020-09-04T17:50:05\", \"2020-09-03T12:40:47\", \"2020-09-02T12:08:41\", \"2020-08-31T11:51:13\", \"2020-08-27T17:35:31\", \"2020-08-26T12:37:05\", \"2020-08-24T12:24:57\", \"2020-08-23T09:25:52\", \"2020-08-18T12:17:53\", \"2020-08-17T10:56:32\", \"2020-08-14T12:39:26\", \"2020-08-12T13:25:21\", \"2020-08-09T18:15:32\", \"2020-08-06T18:35:45\", \"2020-08-04T17:34:12\", \"2020-07-10T17:28:29\", \"2020-07-08T17:36:04\", \"2020-07-06T18:29:53\", \"2020-07-04T19:52:43\", \"2020-07-02T17:09:37\", \"2020-06-30T17:33:12\", \"2020-06-28T17:30:40\", \"2020-06-26T18:15:40\", \"2020-06-23T17:40:01\", \"2020-06-21T10:36:30\", \"2020-06-18T17:28:08\"], \"xaxis\": \"x\", \"y\": [0.7176155903706534, 0.4629774119299341, 0.6048365462001303, 0.5887783932901733, 0.3777577086827506, 0.5771797153024911, 0.5748710679494526, 0.5461393596986818, 0.5123548868279395, 0.6714870774427913, 0.5992576663622706, 0.7039012273524254, 0.6719189645469893, 0.4827728776185226, 0.4355263157894737, 0.5918121323174849, 0.4355561518851469, 0.5951245363010069, 0.8037405923540645, 0.6825768667642752, 0.699038113253109, 0.6423992383370358, 0.44487932159165033, 0.910454823804487, 0.6795066028845121, 0.5267717725280814, 0.5944351787820852, 0.699871088714403, 0.6694935162563428, 0.7078491776108379, 0.8959156264812767], \"yaxis\": \"y\"}, {\"hovertemplate\": \"<b>OLS trendline</b><br>percentile = -1.84195e-08 * workout_date + 30.0305<br>R<sup>2</sup>=0.175174<br><br>workout_date=%{x}<br>percentile=%{y} <b>(trend)</b><extra></extra>\", \"legendgroup\": \"\", \"line\": {\"color\": \"red\"}, \"marker\": {\"color\": \"#636efa\", \"symbol\": \"circle\"}, \"mode\": \"lines\", \"name\": \"\", \"showlegend\": false, \"type\": \"scatter\", \"x\": [\"2020-06-18T17:28:08\", \"2020-06-21T10:36:30\", \"2020-06-23T17:40:01\", \"2020-06-26T18:15:40\", \"2020-06-28T17:30:40\", \"2020-06-30T17:33:12\", \"2020-07-02T17:09:37\", \"2020-07-04T19:52:43\", \"2020-07-06T18:29:53\", \"2020-07-08T17:36:04\", \"2020-07-10T17:28:29\", \"2020-08-04T17:34:12\", \"2020-08-06T18:35:45\", \"2020-08-09T18:15:32\", \"2020-08-12T13:25:21\", \"2020-08-14T12:39:26\", \"2020-08-17T10:56:32\", \"2020-08-18T12:17:53\", \"2020-08-23T09:25:52\", \"2020-08-24T12:24:57\", \"2020-08-26T12:37:05\", \"2020-08-27T17:35:31\", \"2020-08-31T11:51:13\", \"2020-09-02T12:08:41\", \"2020-09-03T12:40:47\", \"2020-09-04T17:50:05\", \"2020-09-21T17:19:49\", \"2020-09-23T17:50:28\", \"2020-09-25T17:04:33\", \"2020-09-28T17:19:12\", \"2020-09-30T17:35:00\"], \"xaxis\": \"x\", \"y\": [0.697498315548092, 0.6931789100847325, 0.6895279660573976, 0.6847142369446892, 0.681581082987293, 0.6783953966660725, 0.6752385736737843, 0.6718754340590571, 0.6687840923267245, 0.6656606822755222, 0.6624861765801242, 0.6226937766989806, 0.6194428669905605, 0.6146908799828772, 0.6102372517512222, 0.6071051108653585, 0.602444502909897, 0.6007631541363203, 0.5929960452145053, 0.5912066845960986, 0.5880103886530108, 0.5860891261210881, 0.5801038626688602, 0.5769016724914025, 0.5752747532883404, 0.5733414812538875, 0.5463203952748401, 0.5431036352867977, 0.539971494400934, 0.5351809738360593, 0.5319806256068418], \"yaxis\": \"y\"}],                        {\"legend\": {\"tracegroupgap\": 0}, \"template\": {\"data\": {\"bar\": [{\"error_x\": {\"color\": \"#2a3f5f\"}, \"error_y\": {\"color\": \"#2a3f5f\"}, \"marker\": {\"line\": {\"color\": \"#E5ECF6\", \"width\": 0.5}}, \"type\": \"bar\"}], \"barpolar\": [{\"marker\": {\"line\": {\"color\": \"#E5ECF6\", \"width\": 0.5}}, \"type\": \"barpolar\"}], \"carpet\": [{\"aaxis\": {\"endlinecolor\": \"#2a3f5f\", \"gridcolor\": \"white\", \"linecolor\": \"white\", \"minorgridcolor\": \"white\", \"startlinecolor\": \"#2a3f5f\"}, \"baxis\": {\"endlinecolor\": \"#2a3f5f\", \"gridcolor\": \"white\", \"linecolor\": \"white\", \"minorgridcolor\": \"white\", \"startlinecolor\": \"#2a3f5f\"}, \"type\": \"carpet\"}], \"choropleth\": [{\"colorbar\": {\"outlinewidth\": 0, \"ticks\": \"\"}, \"type\": \"choropleth\"}], \"contour\": [{\"colorbar\": {\"outlinewidth\": 0, \"ticks\": \"\"}, \"colorscale\": [[0.0, \"#0d0887\"], [0.1111111111111111, \"#46039f\"], [0.2222222222222222, \"#7201a8\"], [0.3333333333333333, \"#9c179e\"], [0.4444444444444444, \"#bd3786\"], [0.5555555555555556, \"#d8576b\"], [0.6666666666666666, \"#ed7953\"], [0.7777777777777778, \"#fb9f3a\"], [0.8888888888888888, \"#fdca26\"], [1.0, \"#f0f921\"]], \"type\": \"contour\"}], \"contourcarpet\": [{\"colorbar\": {\"outlinewidth\": 0, \"ticks\": \"\"}, \"type\": \"contourcarpet\"}], \"heatmap\": [{\"colorbar\": {\"outlinewidth\": 0, \"ticks\": \"\"}, \"colorscale\": [[0.0, \"#0d0887\"], [0.1111111111111111, \"#46039f\"], [0.2222222222222222, \"#7201a8\"], [0.3333333333333333, \"#9c179e\"], [0.4444444444444444, \"#bd3786\"], [0.5555555555555556, \"#d8576b\"], [0.6666666666666666, \"#ed7953\"], [0.7777777777777778, \"#fb9f3a\"], [0.8888888888888888, \"#fdca26\"], [1.0, \"#f0f921\"]], \"type\": \"heatmap\"}], \"heatmapgl\": [{\"colorbar\": {\"outlinewidth\": 0, \"ticks\": \"\"}, \"colorscale\": [[0.0, \"#0d0887\"], [0.1111111111111111, \"#46039f\"], [0.2222222222222222, \"#7201a8\"], [0.3333333333333333, \"#9c179e\"], [0.4444444444444444, \"#bd3786\"], [0.5555555555555556, \"#d8576b\"], [0.6666666666666666, \"#ed7953\"], [0.7777777777777778, \"#fb9f3a\"], [0.8888888888888888, \"#fdca26\"], [1.0, \"#f0f921\"]], \"type\": \"heatmapgl\"}], \"histogram\": [{\"marker\": {\"colorbar\": {\"outlinewidth\": 0, \"ticks\": \"\"}}, \"type\": \"histogram\"}], \"histogram2d\": [{\"colorbar\": {\"outlinewidth\": 0, \"ticks\": \"\"}, \"colorscale\": [[0.0, \"#0d0887\"], [0.1111111111111111, \"#46039f\"], [0.2222222222222222, \"#7201a8\"], [0.3333333333333333, \"#9c179e\"], [0.4444444444444444, \"#bd3786\"], [0.5555555555555556, \"#d8576b\"], [0.6666666666666666, \"#ed7953\"], [0.7777777777777778, \"#fb9f3a\"], [0.8888888888888888, \"#fdca26\"], [1.0, \"#f0f921\"]], \"type\": \"histogram2d\"}], \"histogram2dcontour\": [{\"colorbar\": {\"outlinewidth\": 0, \"ticks\": \"\"}, \"colorscale\": [[0.0, \"#0d0887\"], [0.1111111111111111, \"#46039f\"], [0.2222222222222222, \"#7201a8\"], [0.3333333333333333, \"#9c179e\"], [0.4444444444444444, \"#bd3786\"], [0.5555555555555556, \"#d8576b\"], [0.6666666666666666, \"#ed7953\"], [0.7777777777777778, \"#fb9f3a\"], [0.8888888888888888, \"#fdca26\"], [1.0, \"#f0f921\"]], \"type\": \"histogram2dcontour\"}], \"mesh3d\": [{\"colorbar\": {\"outlinewidth\": 0, \"ticks\": \"\"}, \"type\": \"mesh3d\"}], \"parcoords\": [{\"line\": {\"colorbar\": {\"outlinewidth\": 0, \"ticks\": \"\"}}, \"type\": \"parcoords\"}], \"pie\": [{\"automargin\": true, \"type\": \"pie\"}], \"scatter\": [{\"marker\": {\"colorbar\": {\"outlinewidth\": 0, \"ticks\": \"\"}}, \"type\": \"scatter\"}], \"scatter3d\": [{\"line\": {\"colorbar\": {\"outlinewidth\": 0, \"ticks\": \"\"}}, \"marker\": {\"colorbar\": {\"outlinewidth\": 0, \"ticks\": \"\"}}, \"type\": \"scatter3d\"}], \"scattercarpet\": [{\"marker\": {\"colorbar\": {\"outlinewidth\": 0, \"ticks\": \"\"}}, \"type\": \"scattercarpet\"}], \"scattergeo\": [{\"marker\": {\"colorbar\": {\"outlinewidth\": 0, \"ticks\": \"\"}}, \"type\": \"scattergeo\"}], \"scattergl\": [{\"marker\": {\"colorbar\": {\"outlinewidth\": 0, \"ticks\": \"\"}}, \"type\": \"scattergl\"}], \"scattermapbox\": [{\"marker\": {\"colorbar\": {\"outlinewidth\": 0, \"ticks\": \"\"}}, \"type\": \"scattermapbox\"}], \"scatterpolar\": [{\"marker\": {\"colorbar\": {\"outlinewidth\": 0, \"ticks\": \"\"}}, \"type\": \"scatterpolar\"}], \"scatterpolargl\": [{\"marker\": {\"colorbar\": {\"outlinewidth\": 0, \"ticks\": \"\"}}, \"type\": \"scatterpolargl\"}], \"scatterternary\": [{\"marker\": {\"colorbar\": {\"outlinewidth\": 0, \"ticks\": \"\"}}, \"type\": \"scatterternary\"}], \"surface\": [{\"colorbar\": {\"outlinewidth\": 0, \"ticks\": \"\"}, \"colorscale\": [[0.0, \"#0d0887\"], [0.1111111111111111, \"#46039f\"], [0.2222222222222222, \"#7201a8\"], [0.3333333333333333, \"#9c179e\"], [0.4444444444444444, \"#bd3786\"], [0.5555555555555556, \"#d8576b\"], [0.6666666666666666, \"#ed7953\"], [0.7777777777777778, \"#fb9f3a\"], [0.8888888888888888, \"#fdca26\"], [1.0, \"#f0f921\"]], \"type\": \"surface\"}], \"table\": [{\"cells\": {\"fill\": {\"color\": \"#EBF0F8\"}, \"line\": {\"color\": \"white\"}}, \"header\": {\"fill\": {\"color\": \"#C8D4E3\"}, \"line\": {\"color\": \"white\"}}, \"type\": \"table\"}]}, \"layout\": {\"annotationdefaults\": {\"arrowcolor\": \"#2a3f5f\", \"arrowhead\": 0, \"arrowwidth\": 1}, \"coloraxis\": {\"colorbar\": {\"outlinewidth\": 0, \"ticks\": \"\"}}, \"colorscale\": {\"diverging\": [[0, \"#8e0152\"], [0.1, \"#c51b7d\"], [0.2, \"#de77ae\"], [0.3, \"#f1b6da\"], [0.4, \"#fde0ef\"], [0.5, \"#f7f7f7\"], [0.6, \"#e6f5d0\"], [0.7, \"#b8e186\"], [0.8, \"#7fbc41\"], [0.9, \"#4d9221\"], [1, \"#276419\"]], \"sequential\": [[0.0, \"#0d0887\"], [0.1111111111111111, \"#46039f\"], [0.2222222222222222, \"#7201a8\"], [0.3333333333333333, \"#9c179e\"], [0.4444444444444444, \"#bd3786\"], [0.5555555555555556, \"#d8576b\"], [0.6666666666666666, \"#ed7953\"], [0.7777777777777778, \"#fb9f3a\"], [0.8888888888888888, \"#fdca26\"], [1.0, \"#f0f921\"]], \"sequentialminus\": [[0.0, \"#0d0887\"], [0.1111111111111111, \"#46039f\"], [0.2222222222222222, \"#7201a8\"], [0.3333333333333333, \"#9c179e\"], [0.4444444444444444, \"#bd3786\"], [0.5555555555555556, \"#d8576b\"], [0.6666666666666666, \"#ed7953\"], [0.7777777777777778, \"#fb9f3a\"], [0.8888888888888888, \"#fdca26\"], [1.0, \"#f0f921\"]]}, \"colorway\": [\"#636efa\", \"#EF553B\", \"#00cc96\", \"#ab63fa\", \"#FFA15A\", \"#19d3f3\", \"#FF6692\", \"#B6E880\", \"#FF97FF\", \"#FECB52\"], \"font\": {\"color\": \"#2a3f5f\"}, \"geo\": {\"bgcolor\": \"white\", \"lakecolor\": \"white\", \"landcolor\": \"#E5ECF6\", \"showlakes\": true, \"showland\": true, \"subunitcolor\": \"white\"}, \"hoverlabel\": {\"align\": \"left\"}, \"hovermode\": \"closest\", \"mapbox\": {\"style\": \"light\"}, \"paper_bgcolor\": \"white\", \"plot_bgcolor\": \"#E5ECF6\", \"polar\": {\"angularaxis\": {\"gridcolor\": \"white\", \"linecolor\": \"white\", \"ticks\": \"\"}, \"bgcolor\": \"#E5ECF6\", \"radialaxis\": {\"gridcolor\": \"white\", \"linecolor\": \"white\", \"ticks\": \"\"}}, \"scene\": {\"xaxis\": {\"backgroundcolor\": \"#E5ECF6\", \"gridcolor\": \"white\", \"gridwidth\": 2, \"linecolor\": \"white\", \"showbackground\": true, \"ticks\": \"\", \"zerolinecolor\": \"white\"}, \"yaxis\": {\"backgroundcolor\": \"#E5ECF6\", \"gridcolor\": \"white\", \"gridwidth\": 2, \"linecolor\": \"white\", \"showbackground\": true, \"ticks\": \"\", \"zerolinecolor\": \"white\"}, \"zaxis\": {\"backgroundcolor\": \"#E5ECF6\", \"gridcolor\": \"white\", \"gridwidth\": 2, \"linecolor\": \"white\", \"showbackground\": true, \"ticks\": \"\", \"zerolinecolor\": \"white\"}}, \"shapedefaults\": {\"line\": {\"color\": \"#2a3f5f\"}}, \"ternary\": {\"aaxis\": {\"gridcolor\": \"white\", \"linecolor\": \"white\", \"ticks\": \"\"}, \"baxis\": {\"gridcolor\": \"white\", \"linecolor\": \"white\", \"ticks\": \"\"}, \"bgcolor\": \"#E5ECF6\", \"caxis\": {\"gridcolor\": \"white\", \"linecolor\": \"white\", \"ticks\": \"\"}}, \"title\": {\"x\": 0.05}, \"xaxis\": {\"automargin\": true, \"gridcolor\": \"white\", \"linecolor\": \"white\", \"ticks\": \"\", \"title\": {\"standoff\": 15}, \"zerolinecolor\": \"white\", \"zerolinewidth\": 2}, \"yaxis\": {\"automargin\": true, \"gridcolor\": \"white\", \"linecolor\": \"white\", \"ticks\": \"\", \"title\": {\"standoff\": 15}, \"zerolinecolor\": \"white\", \"zerolinewidth\": 2}}}, \"title\": {\"text\": \"Workout % position\"}, \"xaxis\": {\"anchor\": \"y\", \"domain\": [0.0, 1.0], \"title\": {\"text\": \"workout_date\"}}, \"yaxis\": {\"anchor\": \"x\", \"domain\": [0.0, 1.0], \"range\": [0, 1], \"title\": {\"text\": \"percentile\"}}},                        {\"responsive\": true}                    ).then(function(){\n",
       "                            \n",
       "var gd = document.getElementById('bf5ff611-3a82-4802-9a3a-c8b16dc5483e');\n",
       "var x = new MutationObserver(function (mutations, observer) {{\n",
       "        var display = window.getComputedStyle(gd).display;\n",
       "        if (!display || display === 'none') {{\n",
       "            console.log([gd, 'removed!']);\n",
       "            Plotly.purge(gd);\n",
       "            observer.disconnect();\n",
       "        }}\n",
       "}});\n",
       "\n",
       "// Listen for the removal of the full notebook cells\n",
       "var notebookContainer = gd.closest('#notebook-container');\n",
       "if (notebookContainer) {{\n",
       "    x.observe(notebookContainer, {childList: true});\n",
       "}}\n",
       "\n",
       "// Listen for the clearing of the current output cell\n",
       "var outputEl = gd.closest('.output');\n",
       "if (outputEl) {{\n",
       "    x.observe(outputEl, {childList: true});\n",
       "}}\n",
       "\n",
       "                        })                };                });            </script>        </div>"
      ]
     },
     "metadata": {},
     "output_type": "display_data"
    }
   ],
   "source": [
    "def plot_workout_percentile():\n",
    "    fig1 = px.scatter(df, x=\"workout_date\", \n",
    "                         y=\"percentile\", \n",
    "                         title='Workout % position',  \n",
    "                         trendline=\"ols\", \n",
    "                         trendline_color_override=\"red\",\n",
    "                    )\n",
    "    fig1.update_yaxes(range=[0, 1])\n",
    "    fig1.show()\n",
    "\n",
    "plot_workout_percentile()"
   ]
  }
 ],
 "metadata": {
  "kernelspec": {
   "display_name": "Python 3",
   "language": "python",
   "name": "python3"
  },
  "language_info": {
   "codemirror_mode": {
    "name": "ipython",
    "version": 3
   },
   "file_extension": ".py",
   "mimetype": "text/x-python",
   "name": "python",
   "nbconvert_exporter": "python",
   "pygments_lexer": "ipython3",
   "version": "3.7.1"
  }
 },
 "nbformat": 4,
 "nbformat_minor": 4
}
