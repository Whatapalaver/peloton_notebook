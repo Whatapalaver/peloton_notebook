{
 "cells": [
  {
   "cell_type": "code",
   "execution_count": null,
   "metadata": {},
   "outputs": [],
   "source": [
    "%load_ext dotenv\n",
    "%dotenv"
   ]
  },
  {
   "cell_type": "code",
   "execution_count": null,
   "metadata": {},
   "outputs": [],
   "source": [
    "import requests\n",
    "import pandas as pd\n",
    "import json\n",
    "import os\n",
    "import plotly.express as px\n",
    "from datetime import datetime\n",
    "\n",
    "s = requests.Session()\n",
    "payload = {'username_or_email': os.getenv(\"peloton-username\"), 'password': os.getenv(\"peloton-password\")}\n",
    "s.post('https://api.onepeloton.com/auth/login', json=payload)"
   ]
  },
  {
   "cell_type": "code",
   "execution_count": null,
   "metadata": {},
   "outputs": [],
   "source": [
    "url = 'https://api.onepeloton.com/api/me'\n",
    "# getting data from source\n",
    "data = s.get(url).json()\n",
    "\n",
    "pretty_data = json.dumps(data, indent=4)\n",
    "\n",
    "print(pretty_data)"
   ]
  },
  {
   "cell_type": "code",
   "execution_count": null,
   "metadata": {},
   "outputs": [],
   "source": [
    "peloton_id = data['id']\n",
    "print(peloton_id)"
   ]
  },
  {
   "cell_type": "code",
   "execution_count": null,
   "metadata": {},
   "outputs": [],
   "source": [
    "workdout_id = '532b8c0fd61743618b86fe8353e9ed49'\n",
    "\n",
    "url = 'https://api.onepeloton.com/api/workout/'+ workdout_id +'/performance_graph?every_n=5'\n",
    "# getting data from source\n",
    "\n",
    "get_data = s.get(url).json()\n",
    "seconds_since_pedaling_start = get_data['seconds_since_pedaling_start']\n",
    "output = get_data['metrics'][0]['values']\n",
    "cadence = get_data['metrics'][1]['values']\n",
    "resistence = get_data['metrics'][2]['values']\n",
    "speed = get_data['metrics'][3]['values']\n",
    "heart_rate = get_data['metrics'][4]['values']\n",
    "\n",
    "\n",
    "data = {'seconds_since_pedaling_start': seconds_since_pedaling_start,\n",
    "        'output': output,\n",
    "        'cadence': cadence,\n",
    "        'resistence': resistence,\n",
    "        'speed': speed,\n",
    "        'heart_rate': heart_rate\n",
    "       }\n",
    "df2 = pd.DataFrame(data)\n",
    "df2.head()"
   ]
  },
  {
   "cell_type": "code",
   "execution_count": null,
   "metadata": {},
   "outputs": [],
   "source": [
    "# Using plotly.express\n",
    "import plotly.express as px\n",
    "\n",
    "# df = px.data.stocks()\n",
    "fig = px.line(df2, \n",
    "              x='seconds_since_pedaling_start', \n",
    "              y=\"heart_rate\",\n",
    "              title='Heart rate')\n",
    "\n",
    "fig1 = px.scatter(df2, x='seconds_since_pedaling_start', \n",
    "                       y=\"output\",\n",
    "                         title='Workout output',  \n",
    "                         trendline=\"ols\", \n",
    "                         trendline_color_override=\"red\",\n",
    "                    )\n",
    "fig.show()\n",
    "fig1.show()"
   ]
  },
  {
   "cell_type": "code",
   "execution_count": null,
   "metadata": {},
   "outputs": [],
   "source": [
    "import plotly.graph_objects as go\n",
    "from plotly.subplots import make_subplots\n",
    "\n",
    "# Create figure with secondary y-axis\n",
    "fig = make_subplots(specs=[[{\"secondary_y\": True}]])\n",
    "\n",
    "# Add traces\n",
    "fig.add_trace(\n",
    "    go.Scatter(\n",
    "                x=df2['seconds_since_pedaling_start'], \n",
    "                y=df2[\"heart_rate\"],\n",
    "                name=\"BPM\"),\n",
    "    secondary_y=False,\n",
    ")\n",
    "\n",
    "fig.add_trace(\n",
    "    go.Bar(x=df2['seconds_since_pedaling_start'], \n",
    "               y=df2[\"output\"],\n",
    "               name=\"Output\"),\n",
    "    secondary_y=True,\n",
    ")\n",
    "\n",
    "# Add figure title\n",
    "fig.update_layout(\n",
    "    title_text=\"Heart BPM and Output\"\n",
    ")\n",
    "\n",
    "# Set x-axis title\n",
    "fig.update_xaxes(title_text=\"Time\")\n",
    "\n",
    "# Set y-axes titles\n",
    "fig.update_yaxes(title_text=\"<b>Heart BPM</b>\", secondary_y=False)\n",
    "fig.update_yaxes(title_text=\"<b>Output</b>\", secondary_y=True)\n",
    "\n",
    "fig.show()"
   ]
  }
 ],
 "metadata": {
  "kernelspec": {
   "display_name": "Python 3",
   "language": "python",
   "name": "python3"
  },
  "language_info": {
   "codemirror_mode": {
    "name": "ipython",
    "version": 3
   },
   "file_extension": ".py",
   "mimetype": "text/x-python",
   "name": "python",
   "nbconvert_exporter": "python",
   "pygments_lexer": "ipython3",
   "version": "3.7.1"
  }
 },
 "nbformat": 4,
 "nbformat_minor": 4
}
